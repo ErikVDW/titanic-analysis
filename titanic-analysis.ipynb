{
 "cells": [
  {
   "cell_type": "markdown",
   "metadata": {},
   "source": [
    "# Analysis of the Passenger Demographics of the Titanic\n",
    "\n",
    "## Introduction\n",
    "\n",
    "With [data](https://d17h27t6h515a5.cloudfront.net/topher/2016/September/57e9a84c_titanic-data/titanic-data.csv) provided from [Kaggle](https://www.kaggle.com/c/titanic/data), we can investigate information about the 891 of the passengers of the Titanic, from whether they had relatives aboard, to the fare they paid, and ultimately comparing these factors to survivorship to find any interesting relationships.  For the purpose of this analysis, we will assume the availability of the data was random (and that the convenience sampling method of collection has not harmed the usefulness of the data).\n",
    "\n",
    "### Limitations in the Data\n",
    "\n",
    "The data we are presented is not perfect.  As we will see below, some of the data is incomplete.  There are 891 entries in the data, but only 204 instances of fares and 714 instances of age (with some ages being estimated).  Trusting the estimations of the compilers, we still must handle missing values.  This is done first in the setup as data is added to a Pandas DataFrame object from the CSV file: Missing values are given an 'n/a' marker so that they do not interfere with later mathematical and plotting operations.\n",
    "\n",
    "Also limiting our analysis is how the data is grouped.  It would be optimal if we were given counts for each passenger of the number of parents they had aboard, number of children they had aboard, number of siblings they had aboard, and number of spouses they had aboard.  Grouping parents and children, and spouses and siblings confuses our analysis, because the relationship between a passenger is very different if they had a child aboard versus a parent aboard, and also very different if they had a spouse aboard versus if they had a sibling aboard; especially that spouses and siblings are combined is confusing.  This conflating of relationships makes it impossible to ask questions about whether having a sibling aboard meant better survival, or being a parent meant lower survival.\n",
    "\n",
    "### Questions Asked\n",
    "\n",
    "The analysis starts by inquiring about passenger relationships, first by analyzing the frequency with which passengers traveled with their parents and children, and their siblings and spouses, and then by analyzing the connection between boarding location and relationships.  I hypothesize there is a positive association between number of parents and children a passenger has aboard, and the number of siblings and spouses that passenger has, because families may be more likely to travel as a complete unit.  \n",
    "\n",
    "The remainder of the analysis concerns the connection between variables and survival. First, gender and survival are compared using a difference of proportions Z-test.  I predict women will fare better than men do to the women and children first policy in lifeboat space allocation.  Next, age and survival are compared using a Chi-squared test, with categories being age groups of 10.  I predict age will be negatively associated with survivorship, as preferential treatment may be given to the young.  Finally, because age and survivorship were found *not* to be independent, a correlation was found to predict the affect of age on survivorship. "
   ]
  },
  {
   "cell_type": "markdown",
   "metadata": {},
   "source": [
    "## Setup\n",
    "\n",
    "We import CSV, NumPy, MatPlotLib, Seaborn, and Pandas libraries."
   ]
  },
  {
   "cell_type": "code",
   "execution_count": 1,
   "metadata": {
    "collapsed": false,
    "scrolled": true
   },
   "outputs": [],
   "source": [
    "import numpy as np\n",
    "import pandas as pd\n",
    "import matplotlib.pyplot as plt\n",
    "import seaborn as sns\n",
    "import csv"
   ]
  },
  {
   "cell_type": "markdown",
   "metadata": {},
   "source": [
    "### Investigating the data\n",
    "\n",
    "Reading the CSV to a Pandas DataFrame object, we can view summary statistics (below).\n"
   ]
  },
  {
   "cell_type": "markdown",
   "metadata": {},
   "source": [
    "Counting the number of non-null entries in each column, we find that there were only 714 entries for age, only 204 entries for cabin, and two embarked entries were missing.  All other columns were complete:"
   ]
  },
  {
   "cell_type": "code",
   "execution_count": 2,
   "metadata": {
    "collapsed": false
   },
   "outputs": [
    {
     "data": {
      "text/html": [
       "<div>\n",
       "<table border=\"1\" class=\"dataframe\">\n",
       "  <thead>\n",
       "    <tr style=\"text-align: right;\">\n",
       "      <th></th>\n",
       "      <th>PassengerId</th>\n",
       "      <th>Pclass</th>\n",
       "      <th>Age</th>\n",
       "      <th>SibSp</th>\n",
       "      <th>Parch</th>\n",
       "      <th>Fare</th>\n",
       "    </tr>\n",
       "  </thead>\n",
       "  <tbody>\n",
       "    <tr>\n",
       "      <th>count</th>\n",
       "      <td>891.000000</td>\n",
       "      <td>891.000000</td>\n",
       "      <td>714.000000</td>\n",
       "      <td>891.000000</td>\n",
       "      <td>891.000000</td>\n",
       "      <td>891.000000</td>\n",
       "    </tr>\n",
       "    <tr>\n",
       "      <th>mean</th>\n",
       "      <td>446.000000</td>\n",
       "      <td>2.308642</td>\n",
       "      <td>29.699118</td>\n",
       "      <td>0.523008</td>\n",
       "      <td>0.381594</td>\n",
       "      <td>32.204208</td>\n",
       "    </tr>\n",
       "    <tr>\n",
       "      <th>std</th>\n",
       "      <td>257.353842</td>\n",
       "      <td>0.836071</td>\n",
       "      <td>14.526497</td>\n",
       "      <td>1.102743</td>\n",
       "      <td>0.806057</td>\n",
       "      <td>49.693429</td>\n",
       "    </tr>\n",
       "    <tr>\n",
       "      <th>min</th>\n",
       "      <td>1.000000</td>\n",
       "      <td>1.000000</td>\n",
       "      <td>0.420000</td>\n",
       "      <td>0.000000</td>\n",
       "      <td>0.000000</td>\n",
       "      <td>0.000000</td>\n",
       "    </tr>\n",
       "    <tr>\n",
       "      <th>25%</th>\n",
       "      <td>223.500000</td>\n",
       "      <td>2.000000</td>\n",
       "      <td>20.125000</td>\n",
       "      <td>0.000000</td>\n",
       "      <td>0.000000</td>\n",
       "      <td>7.910400</td>\n",
       "    </tr>\n",
       "    <tr>\n",
       "      <th>50%</th>\n",
       "      <td>446.000000</td>\n",
       "      <td>3.000000</td>\n",
       "      <td>28.000000</td>\n",
       "      <td>0.000000</td>\n",
       "      <td>0.000000</td>\n",
       "      <td>14.454200</td>\n",
       "    </tr>\n",
       "    <tr>\n",
       "      <th>75%</th>\n",
       "      <td>668.500000</td>\n",
       "      <td>3.000000</td>\n",
       "      <td>38.000000</td>\n",
       "      <td>1.000000</td>\n",
       "      <td>0.000000</td>\n",
       "      <td>31.000000</td>\n",
       "    </tr>\n",
       "    <tr>\n",
       "      <th>max</th>\n",
       "      <td>891.000000</td>\n",
       "      <td>3.000000</td>\n",
       "      <td>80.000000</td>\n",
       "      <td>8.000000</td>\n",
       "      <td>6.000000</td>\n",
       "      <td>512.329200</td>\n",
       "    </tr>\n",
       "  </tbody>\n",
       "</table>\n",
       "</div>"
      ],
      "text/plain": [
       "       PassengerId      Pclass         Age       SibSp       Parch        Fare\n",
       "count   891.000000  891.000000  714.000000  891.000000  891.000000  891.000000\n",
       "mean    446.000000    2.308642   29.699118    0.523008    0.381594   32.204208\n",
       "std     257.353842    0.836071   14.526497    1.102743    0.806057   49.693429\n",
       "min       1.000000    1.000000    0.420000    0.000000    0.000000    0.000000\n",
       "25%     223.500000    2.000000   20.125000    0.000000    0.000000    7.910400\n",
       "50%     446.000000    3.000000   28.000000    0.000000    0.000000   14.454200\n",
       "75%     668.500000    3.000000   38.000000    1.000000    0.000000   31.000000\n",
       "max     891.000000    3.000000   80.000000    8.000000    6.000000  512.329200"
      ]
     },
     "execution_count": 2,
     "metadata": {},
     "output_type": "execute_result"
    }
   ],
   "source": [
    "# Originally, I made a dataframe from the python list version of the csv and converted some of the rows to numeric:\n",
    "\n",
    "# pd_data = pd.DataFrame(list_data)\n",
    "\n",
    "#   pd_data[['Age','Fare','Parch','Pclass','SibSp','Survived']] \n",
    "# = pd_data[['Age','Fare','Parch','Pclass','SibSp','Survived']].apply(pd.to_numeric)\n",
    "\n",
    "# But a better procedure is to type the columns as they are read using pd.read():\n",
    "\n",
    "pd_data = pd.read_csv('titanic-analysis.csv', dtype={'Survived': bool, 'Pclass': int, 'Age': float, 'SibSp': int, 'Parch': int, 'Fare': float}, na_values=['n/a'])\n",
    "\n",
    "\n",
    "pd_data.describe()"
   ]
  },
  {
   "cell_type": "code",
   "execution_count": 3,
   "metadata": {
    "collapsed": false
   },
   "outputs": [
    {
     "data": {
      "text/plain": [
       "PassengerId    891\n",
       "Survived       891\n",
       "Pclass         891\n",
       "Name           891\n",
       "Sex            891\n",
       "Age            714\n",
       "SibSp          891\n",
       "Parch          891\n",
       "Ticket         891\n",
       "Fare           891\n",
       "Cabin          204\n",
       "Embarked       889\n",
       "dtype: int64"
      ]
     },
     "execution_count": 3,
     "metadata": {},
     "output_type": "execute_result"
    }
   ],
   "source": [
    "pd_data.count()"
   ]
  },
  {
   "cell_type": "markdown",
   "metadata": {},
   "source": [
    "Using Seaborn, we can give ourselves an introduction to the data by creating pairplots between variables that may be significant.  Below, we see the relationships between age, number of siblings and spouses aboard for that passenger, number of parents and children aboard for that passenger, and fare.  Each pairplot datapoint is colored according to whether the passenger ultimately survived or not."
   ]
  },
  {
   "cell_type": "code",
   "execution_count": 4,
   "metadata": {
    "collapsed": false
   },
   "outputs": [
    {
     "data": {
      "text/plain": [
       "<seaborn.axisgrid.PairGrid at 0x93e5860>"
      ]
     },
     "execution_count": 4,
     "metadata": {},
     "output_type": "execute_result"
    }
   ],
   "source": [
    "newDF = pd_data[['Age','SibSp','Parch','Fare','Survived']].dropna().copy()\n",
    "\n",
    "sns.pairplot(newDF, vars=['Age','SibSp','Parch','Fare'], hue='Survived', palette=\"hls\")"
   ]
  },
  {
   "cell_type": "markdown",
   "metadata": {},
   "source": [
    "Analyzing the pairplot, we notice a few interesting relationships.  It appears in general that the higher the number of siblings, the lower the survivorship.  Those with low age and a high number of siblings tended to suffer especially worse in terms of survival than others.    \n",
    "\n",
    "The relationship is obvious, as expected, for fare and survival (lower fares mean lower survival).  We notice no obvious relationship, however, between fare and age, fare and number of siblings spouses, or fare and number of parents and children.  "
   ]
  },
  {
   "cell_type": "code",
   "execution_count": 5,
   "metadata": {
    "collapsed": false
   },
   "outputs": [
    {
     "data": {
      "text/html": [
       "<div>\n",
       "<table border=\"1\" class=\"dataframe\">\n",
       "  <thead>\n",
       "    <tr style=\"text-align: right;\">\n",
       "      <th></th>\n",
       "      <th>PassengerId</th>\n",
       "      <th>Survived</th>\n",
       "      <th>Pclass</th>\n",
       "      <th>Name</th>\n",
       "      <th>Sex</th>\n",
       "      <th>Age</th>\n",
       "      <th>SibSp</th>\n",
       "      <th>Parch</th>\n",
       "      <th>Ticket</th>\n",
       "      <th>Fare</th>\n",
       "      <th>Cabin</th>\n",
       "      <th>Embarked</th>\n",
       "    </tr>\n",
       "  </thead>\n",
       "  <tbody>\n",
       "    <tr>\n",
       "      <th>419</th>\n",
       "      <td>420</td>\n",
       "      <td>False</td>\n",
       "      <td>3</td>\n",
       "      <td>Van Impe, Miss. Catharina</td>\n",
       "      <td>female</td>\n",
       "      <td>10.0</td>\n",
       "      <td>0</td>\n",
       "      <td>2</td>\n",
       "      <td>345773</td>\n",
       "      <td>24.150</td>\n",
       "      <td>NaN</td>\n",
       "      <td>S</td>\n",
       "    </tr>\n",
       "    <tr>\n",
       "      <th>671</th>\n",
       "      <td>672</td>\n",
       "      <td>False</td>\n",
       "      <td>1</td>\n",
       "      <td>Davidson, Mr. Thornton</td>\n",
       "      <td>male</td>\n",
       "      <td>31.0</td>\n",
       "      <td>1</td>\n",
       "      <td>0</td>\n",
       "      <td>F.C. 12750</td>\n",
       "      <td>52.000</td>\n",
       "      <td>B71</td>\n",
       "      <td>S</td>\n",
       "    </tr>\n",
       "    <tr>\n",
       "      <th>516</th>\n",
       "      <td>517</td>\n",
       "      <td>True</td>\n",
       "      <td>2</td>\n",
       "      <td>Lemore, Mrs. (Amelia Milley)</td>\n",
       "      <td>female</td>\n",
       "      <td>34.0</td>\n",
       "      <td>0</td>\n",
       "      <td>0</td>\n",
       "      <td>C.A. 34260</td>\n",
       "      <td>10.500</td>\n",
       "      <td>F33</td>\n",
       "      <td>S</td>\n",
       "    </tr>\n",
       "    <tr>\n",
       "      <th>567</th>\n",
       "      <td>568</td>\n",
       "      <td>False</td>\n",
       "      <td>3</td>\n",
       "      <td>Palsson, Mrs. Nils (Alma Cornelia Berglund)</td>\n",
       "      <td>female</td>\n",
       "      <td>29.0</td>\n",
       "      <td>0</td>\n",
       "      <td>4</td>\n",
       "      <td>349909</td>\n",
       "      <td>21.075</td>\n",
       "      <td>NaN</td>\n",
       "      <td>S</td>\n",
       "    </tr>\n",
       "    <tr>\n",
       "      <th>868</th>\n",
       "      <td>869</td>\n",
       "      <td>False</td>\n",
       "      <td>3</td>\n",
       "      <td>van Melkebeke, Mr. Philemon</td>\n",
       "      <td>male</td>\n",
       "      <td>NaN</td>\n",
       "      <td>0</td>\n",
       "      <td>0</td>\n",
       "      <td>345777</td>\n",
       "      <td>9.500</td>\n",
       "      <td>NaN</td>\n",
       "      <td>S</td>\n",
       "    </tr>\n",
       "  </tbody>\n",
       "</table>\n",
       "</div>"
      ],
      "text/plain": [
       "     PassengerId Survived  Pclass  \\\n",
       "419          420    False       3   \n",
       "671          672    False       1   \n",
       "516          517     True       2   \n",
       "567          568    False       3   \n",
       "868          869    False       3   \n",
       "\n",
       "                                            Name     Sex   Age  SibSp  Parch  \\\n",
       "419                    Van Impe, Miss. Catharina  female  10.0      0      2   \n",
       "671                       Davidson, Mr. Thornton    male  31.0      1      0   \n",
       "516                 Lemore, Mrs. (Amelia Milley)  female  34.0      0      0   \n",
       "567  Palsson, Mrs. Nils (Alma Cornelia Berglund)  female  29.0      0      4   \n",
       "868                  van Melkebeke, Mr. Philemon    male   NaN      0      0   \n",
       "\n",
       "         Ticket    Fare Cabin Embarked  \n",
       "419      345773  24.150   NaN        S  \n",
       "671  F.C. 12750  52.000   B71        S  \n",
       "516  C.A. 34260  10.500   F33        S  \n",
       "567      349909  21.075   NaN        S  \n",
       "868      345777   9.500   NaN        S  "
      ]
     },
     "execution_count": 5,
     "metadata": {},
     "output_type": "execute_result"
    }
   ],
   "source": [
    "# Use this to remind us of how the complete table looks\n",
    "pd_data.sample(n=5)"
   ]
  },
  {
   "cell_type": "markdown",
   "metadata": {},
   "source": [
    "## Who Did Passengers Travel With?\n",
    "\n",
    "From our dataset we can find information about how many siblings and spouses, and how many parents and children a titanic passenger shared the trip with."
   ]
  },
  {
   "cell_type": "code",
   "execution_count": 6,
   "metadata": {
    "collapsed": false
   },
   "outputs": [
    {
     "name": "stdout",
     "output_type": "stream",
     "text": [
      "Total Parent and Child Count: 340\n"
     ]
    }
   ],
   "source": [
    "print \"Total Parent and Child Count: {}\".format(pd_data['Parch'].sum())"
   ]
  },
  {
   "cell_type": "code",
   "execution_count": 7,
   "metadata": {
    "collapsed": false
   },
   "outputs": [
    {
     "name": "stdout",
     "output_type": "stream",
     "text": [
      "Populating the interactive namespace from numpy and matplotlib\n",
      "count    891.000000\n",
      "mean       0.381594\n",
      "std        0.806057\n",
      "min        0.000000\n",
      "25%        0.000000\n",
      "50%        0.000000\n",
      "75%        0.000000\n",
      "max        6.000000\n",
      "Name: Parch, dtype: float64\n"
     ]
    },
    {
     "data": {
      "text/plain": [
       "<matplotlib.text.Text at 0xd344f60>"
      ]
     },
     "execution_count": 7,
     "metadata": {},
     "output_type": "execute_result"
    },
    {
     "data": {
      "image/png": "[encoded data removed]",
      "text/plain": [
       "<matplotlib.figure.Figure at 0x962eda0>"
      ]
     },
     "metadata": {},
     "output_type": "display_data"
    }
   ],
   "source": [
    "%pylab inline\n",
    "print pd_data['Parch'].describe()\n",
    "chart = pd_data['Parch'].hist(bins=range(0,8))\n",
    "chart.set_xlabel(\"Number of parents and children this passenger had aboard\")\n",
    "chart.set_ylabel(\"Frequency\")\n",
    "chart.set_title(\"Histogram of Parents and Children\")"
   ]
  },
  {
   "cell_type": "markdown",
   "metadata": {},
   "source": [
    "As we see above, the vast majority of passengers do not have any siblings aboard.  The distribution is positively skewed with a mean at about 0.38"
   ]
  },
  {
   "cell_type": "markdown",
   "metadata": {},
   "source": [
    "We also describe the number of siblings and spouses aboard for each passenger:"
   ]
  },
  {
   "cell_type": "code",
   "execution_count": 8,
   "metadata": {
    "collapsed": false
   },
   "outputs": [
    {
     "name": "stdout",
     "output_type": "stream",
     "text": [
      "466\n",
      "count    891.000000\n",
      "mean       0.523008\n",
      "std        1.102743\n",
      "min        0.000000\n",
      "25%        0.000000\n",
      "50%        0.000000\n",
      "75%        1.000000\n",
      "max        8.000000\n",
      "Name: SibSp, dtype: float64\n"
     ]
    },
    {
     "data": {
      "text/plain": [
       "<matplotlib.text.Text at 0xd471da0>"
      ]
     },
     "execution_count": 8,
     "metadata": {},
     "output_type": "execute_result"
    },
    {
     "data": {
      "image/png": "[encoded data removed]",
      "text/plain": [
       "<matplotlib.figure.Figure at 0xd3395c0>"
      ]
     },
     "metadata": {},
     "output_type": "display_data"
    }
   ],
   "source": [
    "print pd_data['SibSp'].sum()\n",
    "print pd_data['SibSp'].describe()\n",
    "chart = pd_data['SibSp'].hist(bins=range(0,9))\n",
    "chart.set_xlabel(\"Number of spouses and siblings this passenger had aboard\")\n",
    "chart.set_ylabel(\"Frequency\")\n",
    "chart.set_title(\"Histogram of Spouses and Siblings\")"
   ]
  },
  {
   "cell_type": "markdown",
   "metadata": {},
   "source": [
    "Passengers were slightly more likely to have a spouse or sibling aboard, with a mean number of about 0.52.  Again, the distribution is positively skewed.\n",
    "\n",
    "I was originally interested in performing a Z-test to analyze if the two were related, but because both distributions are strongly skewed, that would not confer useful information.  We can however, analyze if there is a correlation (below, using Pearson's r):"
   ]
  },
  {
   "cell_type": "code",
   "execution_count": 9,
   "metadata": {
    "collapsed": false
   },
   "outputs": [
    {
     "data": {
      "text/plain": [
       "0.41483769862015607"
      ]
     },
     "execution_count": 9,
     "metadata": {},
     "output_type": "execute_result"
    }
   ],
   "source": [
    "# This function finds the Pearson's r for two given variables x and y\n",
    "def correlation(x,y):\n",
    "    stdev_x = (x-x.mean()) / x.std(ddof=0)\n",
    "    stdev_y = (y-y.mean()) / y.std(ddof=0)\n",
    "    \n",
    "    return (stdev_x * stdev_y).mean()\n",
    "\n",
    "# Apply to the sibling/spouse and parent/children data\n",
    "\n",
    "correlation(pd_data['SibSp'], pd_data['Parch'])"
   ]
  },
  {
   "cell_type": "markdown",
   "metadata": {},
   "source": [
    "The correlation is moderate, which might suggest entire families (husband, mother and children) were likely to travel together, though it is not completely clear."
   ]
  },
  {
   "cell_type": "markdown",
   "metadata": {},
   "source": [
    "### Compare Relationships with Location Embarked From\n",
    "Let's compare this with information about where passengers embarked from.  Below we calculate the mean number of parents and children by location embarked from, and mean number of siblings and spouses from each location."
   ]
  },
  {
   "cell_type": "code",
   "execution_count": 10,
   "metadata": {
    "collapsed": false
   },
   "outputs": [
    {
     "name": "stdout",
     "output_type": "stream",
     "text": [
      "Number of parents and children from\n",
      "Cherbourg: 0.363095238095\n",
      "Southampton: 0.413043478261\n",
      "Queensland: 0.168831168831\n",
      "--\n",
      "Number of Siblings and Spouses from\n",
      "Cherbourg: 0.386904761905\n",
      "Southampton: 0.571428571429\n",
      "Queensland: 0.428571428571\n"
     ]
    }
   ],
   "source": [
    "print \"Number of parents and children from\"\n",
    "print \"Cherbourg: {}\".format(pd_data['Parch'].loc[pd_data['Embarked'] == \"C\"].mean())\n",
    "print \"Southampton: {}\".format(pd_data['Parch'].loc[pd_data['Embarked'] == \"S\"].mean())\n",
    "print \"Queensland: {}\".format(pd_data['Parch'].loc[pd_data['Embarked'] == \"Q\"].mean())\n",
    "print \"--\"\n",
    "print \"Number of Siblings and Spouses from\"\n",
    "print \"Cherbourg: {}\".format(pd_data['SibSp'].loc[pd_data['Embarked'] == \"C\"].mean())\n",
    "print \"Southampton: {}\".format(pd_data['SibSp'].loc[pd_data['Embarked'] == \"S\"].mean())\n",
    "print \"Queensland: {}\".format(pd_data['SibSp'].loc[pd_data['Embarked'] == \"Q\"].mean())"
   ]
  },
  {
   "cell_type": "markdown",
   "metadata": {},
   "source": [
    "These statistics are not especially surprising.  The location with the greatest number of parents and children per passenger (Southampton) was also the location with the greatest number of siblings and spouses.  What was interesting however, was that people that embarked from Queensland had twice the mean number of spouses and siblings as they did parents and children sharing the trip."
   ]
  },
  {
   "cell_type": "markdown",
   "metadata": {},
   "source": [
    "## Gender and Survival - Related?\n",
    "\n",
    "Another interesting question to ask is if men and women experienced different survivorship levels (especially given the women and children first policy).\n"
   ]
  },
  {
   "cell_type": "markdown",
   "metadata": {},
   "source": [
    "### Analyzing the Data\n",
    "\n",
    "We see that there were almost double the number the number of men in the recorded data, and both samples have at least ten survivals and deaths.  The samples are independent - the survivorship of women has no impact on the survivorship of men, and vice versa.  For these reasons, we can perform a difference of proportions Z-test to determine if there was a significant difference between the proportions who survived."
   ]
  },
  {
   "cell_type": "code",
   "execution_count": 11,
   "metadata": {
    "collapsed": false
   },
   "outputs": [
    {
     "name": "stdout",
     "output_type": "stream",
     "text": [
      "Populating the interactive namespace from numpy and matplotlib\n",
      "Male passengers in sample: 577\n",
      "Female passengers in sample: 314\n"
     ]
    },
    {
     "data": {
      "text/plain": [
       "<matplotlib.text.Text at 0xda70550>"
      ]
     },
     "execution_count": 11,
     "metadata": {},
     "output_type": "execute_result"
    },
    {
     "data": {
      "image/png": "[encoded data removed]",
      "text/plain": [
       "<matplotlib.figure.Figure at 0xcd6e7f0>"
      ]
     },
     "metadata": {},
     "output_type": "display_data"
    }
   ],
   "source": [
    "%pylab inline\n",
    "\n",
    "num_men =   pd_data['Sex'].value_counts()['male']\n",
    "num_women = pd_data['Sex'].value_counts()['female']\n",
    "\n",
    "print \"Male passengers in sample: {}\".format(num_men)\n",
    "print \"Female passengers in sample: {}\".format(num_women)\n",
    "\n",
    "sns.set_style(\"whitegrid\")\n",
    "ax = sns.countplot(x=\"Sex\", data=pd_data, palette=\"hls\")\n",
    "ax.set_title(\"Number of Male and Female Passengers in Sample\")\n"
   ]
  },
  {
   "cell_type": "code",
   "execution_count": 12,
   "metadata": {
    "collapsed": false
   },
   "outputs": [
    {
     "data": {
      "text/plain": [
       "Sex\n",
       "female    233.0\n",
       "male      109.0\n",
       "Name: Survived, dtype: float64"
      ]
     },
     "execution_count": 12,
     "metadata": {},
     "output_type": "execute_result"
    }
   ],
   "source": [
    "# Survivorship by gender\n",
    "pd_data.groupby('Sex').sum()['Survived']"
   ]
  },
  {
   "cell_type": "markdown",
   "metadata": {},
   "source": [
    "For analysis in a difference of proportions Z-test, we need to convert these to proportions:"
   ]
  },
  {
   "cell_type": "code",
   "execution_count": 13,
   "metadata": {
    "collapsed": false
   },
   "outputs": [
    {
     "name": "stdout",
     "output_type": "stream",
     "text": [
      "0.188908145581\n"
     ]
    }
   ],
   "source": [
    "male_prop_survived = pd_data.groupby('Sex').sum()['Survived']['male'] / float(pd_data['Sex'].value_counts()['male'])\n",
    "\n",
    "print male_prop_survived"
   ]
  },
  {
   "cell_type": "code",
   "execution_count": 14,
   "metadata": {
    "collapsed": false
   },
   "outputs": [
    {
     "name": "stdout",
     "output_type": "stream",
     "text": [
      "0.742038216561\n"
     ]
    }
   ],
   "source": [
    "female_prop_survived = pd_data.groupby('Sex').sum()['Survived']['female'] / float(pd_data['Sex'].value_counts()['female'])\n",
    "\n",
    "print female_prop_survived"
   ]
  },
  {
   "cell_type": "markdown",
   "metadata": {},
   "source": [
    "Although women were almost half as few as men in number, they accounted for double the number of survivors.  To test if this difference is significant, we will conduct a difference of proportions Z-test.  Our null hypothesis will be that the proportion of surviving men is equal to the proportion of surviving women:\n",
    "\n",
    "$$H_0: \\hat{p}_{men} = \\hat{p}_{women} $$\n",
    "\n",
    "Our alternative hypothesis will be that the proportion of surviving men is less than the proportion of surviving women:\n",
    "\n",
    "$$H_a: \\hat{p}_{men} < \\hat{p}_{women} $$\n",
    "\n",
    "We choose the one-tailed test because the lifeboat policy gives us reason to believe women would have a higher likelihood of survival, and the test offers a greater statistical power.  We will select an alpha level of 0.05 as a baseline."
   ]
  },
  {
   "cell_type": "markdown",
   "metadata": {
    "collapsed": true
   },
   "source": [
    "To start our test, we will start by finding our critical z value:"
   ]
  },
  {
   "cell_type": "code",
   "execution_count": 15,
   "metadata": {
    "collapsed": false
   },
   "outputs": [
    {
     "data": {
      "text/plain": [
       "-1.6448536269514729"
      ]
     },
     "execution_count": 15,
     "metadata": {},
     "output_type": "execute_result"
    }
   ],
   "source": [
    "import scipy.stats as st\n",
    "\n",
    "st.norm.ppf(.05)"
   ]
  },
  {
   "cell_type": "code",
   "execution_count": 16,
   "metadata": {
    "collapsed": false
   },
   "outputs": [
    {
     "name": "stdout",
     "output_type": "stream",
     "text": [
      "0.383838383838\n"
     ]
    }
   ],
   "source": [
    "pooled_prop = (male_prop_survived * num_men + female_prop_survived * num_women) / (num_men + num_women)\n",
    "\n",
    "print pooled_prop"
   ]
  },
  {
   "cell_type": "markdown",
   "metadata": {},
   "source": [
    "Next, we find the standard error using the pooled proportion:"
   ]
  },
  {
   "cell_type": "code",
   "execution_count": 17,
   "metadata": {
    "collapsed": false
   },
   "outputs": [
    {
     "name": "stdout",
     "output_type": "stream",
     "text": [
      "0.00239162874201\n"
     ]
    }
   ],
   "source": [
    "SE = sqrt(pooled_prop * (1 - pooled_prop)) * ((1 / float(num_men)) + (1 / float(num_women)))\n",
    "\n",
    "print SE"
   ]
  },
  {
   "cell_type": "markdown",
   "metadata": {},
   "source": [
    "Finally we find our test statistic.  "
   ]
  },
  {
   "cell_type": "code",
   "execution_count": 18,
   "metadata": {
    "collapsed": false
   },
   "outputs": [
    {
     "name": "stdout",
     "output_type": "stream",
     "text": [
      "-231.277564642\n"
     ]
    }
   ],
   "source": [
    "z = (male_prop_survived - female_prop_survived) / SE\n",
    "\n",
    "print z"
   ]
  },
  {
   "cell_type": "markdown",
   "metadata": {},
   "source": [
    "### Analysis of Test\n",
    "\n",
    "Our analysis shows the z score of the difference of the proportions is 231 standard deviations below the mean (so far below that it does not register below as a percentile).  We strongly reject the null hypothesis that men and women survived at equal rates."
   ]
  },
  {
   "cell_type": "code",
   "execution_count": 19,
   "metadata": {
    "collapsed": false
   },
   "outputs": [
    {
     "data": {
      "text/plain": [
       "0.0"
      ]
     },
     "execution_count": 19,
     "metadata": {},
     "output_type": "execute_result"
    }
   ],
   "source": [
    "st.norm.sf(abs(z))"
   ]
  },
  {
   "cell_type": "markdown",
   "metadata": {},
   "source": [
    "## Age and Death - Related?\n",
    "\n",
    "That there was a relationship between survival and passenger class is already well known, and we established that men did suffer more deaths.  What may be more interesting is the relationship between survivorship and age.  For our analysis, we will treat estimated ages as no different than actual ages, though this may add some uncertainty to our analysis."
   ]
  },
  {
   "cell_type": "markdown",
   "metadata": {},
   "source": [
    "### Histogram of Age "
   ]
  },
  {
   "cell_type": "code",
   "execution_count": 20,
   "metadata": {
    "collapsed": false
   },
   "outputs": [
    {
     "name": "stdout",
     "output_type": "stream",
     "text": [
      "Populating the interactive namespace from numpy and matplotlib\n",
      "              Age\n",
      "count  714.000000\n",
      "mean    29.699118\n",
      "std     14.526497\n",
      "min      0.420000\n",
      "25%     20.125000\n",
      "50%     28.000000\n",
      "75%     38.000000\n",
      "max     80.000000\n"
     ]
    },
    {
     "data": {
      "text/plain": [
       "<matplotlib.text.Text at 0xddc1668>"
      ]
     },
     "execution_count": 20,
     "metadata": {},
     "output_type": "execute_result"
    },
    {
     "data": {
      "image/png": "[encoded data removed]",
      "text/plain": [
       "<matplotlib.figure.Figure at 0xd339048>"
      ]
     },
     "metadata": {},
     "output_type": "display_data"
    }
   ],
   "source": [
    "%pylab inline\n",
    "print pd_data[['Age']].describe()\n",
    "hist = pd_data[['Age']].boxplot()\n",
    "hist.set_title(\"Age Box and Whisker Plot\")"
   ]
  },
  {
   "cell_type": "markdown",
   "metadata": {},
   "source": [
    "The distribution of ages is centered at just under 30 years, with a standard deviation of about 15 years.  Ages above 65 were outliers on the high end, while there were no outliers on the low end.  The higher ages make the distribution somewhat positively skewed.\n",
    "\n",
    "Below, we take a more in depth look at age by comparing it with survival.  We see in the violin plot below that survival was better for the very young, and worse for the very old."
   ]
  },
  {
   "cell_type": "code",
   "execution_count": 21,
   "metadata": {
    "collapsed": false
   },
   "outputs": [
    {
     "data": {
      "image/png": "[encoded data removed]",
      "text/plain": [
       "<matplotlib.figure.Figure at 0xddb8630>"
      ]
     },
     "metadata": {},
     "output_type": "display_data"
    }
   ],
   "source": [
    "sns.set_style(\"whitegrid\")\n",
    "sns.plt.title(\"Violin Plot of Age and Survival\")\n",
    "ax = sns.violinplot(x=pd_data[\"Survived\"], y=pd_data[\"Age\"])"
   ]
  },
  {
   "cell_type": "markdown",
   "metadata": {},
   "source": [
    "### Mean Survival Rate by Age"
   ]
  },
  {
   "cell_type": "code",
   "execution_count": 22,
   "metadata": {
    "collapsed": false
   },
   "outputs": [
    {
     "name": "stdout",
     "output_type": "stream",
     "text": [
      "Number of passengers by age range:\n",
      "(0, 5]       44\n",
      "(5, 10]      20\n",
      "(10, 15]     19\n",
      "(15, 20]     96\n",
      "(20, 25]    122\n",
      "(25, 30]    108\n",
      "(30, 35]     88\n",
      "(35, 40]     67\n",
      "(40, 45]     47\n",
      "(45, 50]     39\n",
      "(50, 55]     24\n",
      "(55, 60]     18\n",
      "(60, 65]     14\n",
      "(65, 70]      3\n",
      "(70, 75]      4\n",
      "(75, 80]      1\n",
      "Name: Age, dtype: int64\n",
      "Proportion survived by age range:\n",
      "(0, 5]      0.704545\n",
      "(10, 15]    0.578947\n",
      "(15, 20]    0.343750\n",
      "(20, 25]    0.344262\n",
      "(25, 30]    0.388889\n",
      "(30, 35]    0.465909\n",
      "(35, 40]    0.417910\n",
      "(40, 45]    0.361702\n",
      "(45, 50]    0.410256\n",
      "(5, 10]     0.350000\n",
      "(50, 55]    0.416667\n",
      "(55, 60]    0.388889\n",
      "(60, 65]    0.285714\n",
      "(65, 70]    0.000000\n",
      "(70, 75]    0.000000\n",
      "(75, 80]    1.000000\n",
      "dtype: float64\n"
     ]
    }
   ],
   "source": [
    "def bin_ages(low, high, step):\n",
    "    segmented_ages = pd.cut(pd_data['Age'], bins=range(low,high,step), right=True,)\n",
    "\n",
    "    print \"Number of passengers by age range:\"\n",
    "    segmented_count =  segmented_ages.value_counts(sort=False)\n",
    "    print segmented_count\n",
    "\n",
    "\n",
    "    survived_by_age = pd_data['Age'].fillna(value=0) * pd_data['Survived']\n",
    "    ages_and_survived = pd.cut(survived_by_age, bins=range(low,high,step), right=True,)\n",
    "\n",
    "    prop_survived_by_age = ages_and_survived.value_counts() / segmented_ages.value_counts()\n",
    "\n",
    "    print \"Proportion survived by age range:\"\n",
    "    print prop_survived_by_age\n",
    "    \n",
    "    return segmented_count, prop_survived_by_age\n",
    "    \n",
    "first_pass = bin_ages(0,85,5)"
   ]
  },
  {
   "cell_type": "markdown",
   "metadata": {},
   "source": [
    "Of samples with more than 20 passengers, passengers between 0 and 5 years old fared the best, with an above 70% survival rate.  For passengers over 20, survival rates improved up to about the age of 40.  But it is difficult to analyze survival for the oldest passengers: from 55-80, as their sample sizes came in under 20.  Changing the range below to count all passengers from 55-90 as a single cohort, we find their mean survival was quite low, at just 30%:"
   ]
  },
  {
   "cell_type": "code",
   "execution_count": 23,
   "metadata": {
    "collapsed": false
   },
   "outputs": [
    {
     "name": "stdout",
     "output_type": "stream",
     "text": [
      "Number of passengers by age range:\n",
      "(55, 80]    40\n",
      "Name: Age, dtype: int64\n",
      "Proportion survived by age range:\n",
      "(55, 80]    0.3\n",
      "dtype: float64\n"
     ]
    }
   ],
   "source": [
    "pass_2 = bin_ages(55,85,25)\n"
   ]
  },
  {
   "cell_type": "markdown",
   "metadata": {},
   "source": [
    "### Significance Test on Age\n",
    "\n",
    "We will use a Chi Squared test to determine if age was a significant predictor of survivorship.  We create our hypotheses:\n",
    "\n",
    "Null Hypothesis: Age and survivorship are independent.\n",
    "\n",
    "Alternative Hypothesis: Age and survivorship are not independent.\n",
    "\n",
    "\n",
    "We will use a typical alpha level of 0.05.  With 7 degrees of freedom (8 categories minus 1), our critical value comes out to 2.167."
   ]
  },
  {
   "cell_type": "markdown",
   "metadata": {},
   "source": [
    "For age to be independent of survivorship, we would expect the distribution of survivorship amongst age categories to be uniform, close to the mean survivorship:"
   ]
  },
  {
   "cell_type": "code",
   "execution_count": 24,
   "metadata": {
    "collapsed": false
   },
   "outputs": [
    {
     "name": "stdout",
     "output_type": "stream",
     "text": [
      "0.383838383838\n"
     ]
    }
   ],
   "source": [
    "mean_survival = pd_data['Survived'].mean()\n",
    "print mean_survival"
   ]
  },
  {
   "cell_type": "markdown",
   "metadata": {},
   "source": [
    "Next, we need to split age into useful categories.  Because our earlier cut resulted in bins with counts fewer than 5, it would not be useful for a Chi Squared test.  We therefore double the size of the bins, fulfilling the bin count greater than 4 condition:"
   ]
  },
  {
   "cell_type": "code",
   "execution_count": 25,
   "metadata": {
    "collapsed": false
   },
   "outputs": [
    {
     "name": "stdout",
     "output_type": "stream",
     "text": [
      "Number of passengers by age range:\n",
      "(0, 10]      64\n",
      "(10, 20]    115\n",
      "(20, 30]    230\n",
      "(30, 40]    155\n",
      "(40, 50]     86\n",
      "(50, 60]     42\n",
      "(60, 70]     17\n",
      "(70, 80]      5\n",
      "Name: Age, dtype: int64\n",
      "Proportion survived by age range:\n",
      "(0, 10]     0.593750\n",
      "(10, 20]    0.382609\n",
      "(20, 30]    0.365217\n",
      "(30, 40]    0.445161\n",
      "(40, 50]    0.383721\n",
      "(50, 60]    0.404762\n",
      "(60, 70]    0.235294\n",
      "(70, 80]    0.200000\n",
      "dtype: float64\n"
     ]
    }
   ],
   "source": [
    "pass_3 = bin_ages(0,90,10)"
   ]
  },
  {
   "cell_type": "markdown",
   "metadata": {},
   "source": [
    "Next, we calculate the expected counts for each category:"
   ]
  },
  {
   "cell_type": "code",
   "execution_count": 26,
   "metadata": {
    "collapsed": false,
    "scrolled": true
   },
   "outputs": [
    {
     "name": "stdout",
     "output_type": "stream",
     "text": [
      "(0, 10]     24.565657\n",
      "(10, 20]    44.141414\n",
      "(20, 30]    88.282828\n",
      "(30, 40]    59.494949\n",
      "(40, 50]    33.010101\n",
      "(50, 60]    16.121212\n",
      "(60, 70]     6.525253\n",
      "(70, 80]     1.919192\n",
      "Name: Age, dtype: float64\n"
     ]
    }
   ],
   "source": [
    "expected_counts = pass_3[0] * mean_survival\n",
    "print expected_counts"
   ]
  },
  {
   "cell_type": "markdown",
   "metadata": {},
   "source": [
    "Finally, we calculate our Chi Squared statistic:"
   ]
  },
  {
   "cell_type": "code",
   "execution_count": 27,
   "metadata": {
    "collapsed": false
   },
   "outputs": [
    {
     "name": "stdout",
     "output_type": "stream",
     "text": [
      "10.5390959004\n"
     ]
    }
   ],
   "source": [
    "diff = pass_3[0] * pass_3[1] - expected_counts\n",
    "chi_squared = ((diff*diff)/expected_counts).sum()\n",
    "\n",
    "print chi_squared"
   ]
  },
  {
   "cell_type": "markdown",
   "metadata": {},
   "source": [
    "Because our Chi Squared statistic is much greater than our critical value, we reject the null hypothesis and find that age and survivorship are not independent."
   ]
  },
  {
   "cell_type": "markdown",
   "metadata": {},
   "source": [
    "### The Correlation Between Age and Survival\n",
    "\n",
    "Knowing that age and survival are not independent, it makes sense to find a correlation between the two."
   ]
  },
  {
   "cell_type": "code",
   "execution_count": 28,
   "metadata": {
    "collapsed": false
   },
   "outputs": [
    {
     "name": "stdout",
     "output_type": "stream",
     "text": [
      "Correlation: -0.0779826784139\n",
      "Age Slope: -0.00261254091706\n"
     ]
    }
   ],
   "source": [
    "# Find the correlation between age and survival\n",
    "\n",
    "r = correlation(pd_data['Survived'], pd_data['Age'])\n",
    "print \"Correlation: {}\".format(r)\n",
    "\n",
    "\n",
    "# Find the slope of the curve\n",
    "def slope(r,x,y):\n",
    "    \n",
    "    return (r * y.std(ddof=0)) / x.std(ddof=0)\n",
    "\n",
    "age_slope = slope(r,pd_data['Age'],pd_data['Survived'])\n",
    "\n",
    "print \"Age Slope: {}\".format(age_slope)"
   ]
  },
  {
   "cell_type": "markdown",
   "metadata": {},
   "source": [
    "Interpreting our age slope, we see that for every year older a passenger was, their predicted chance of survival would go down by just more than 0.2%.  Age was somewhat predictive of survival."
   ]
  },
  {
   "cell_type": "markdown",
   "metadata": {},
   "source": [
    "## Conclusions\n",
    "\n",
    "We investigated a broad range of questions in a short amount of time.  We found that there was some relationship between the number of parents and children a passenger had aboard, and the number of siblings and spouses they had aboard.  The relationship between these two, and location embarked, however, was not so clear.  We then moved on to the more significant question of how variables affected survival.  We firmly rejected the hypothesis that men and women survived at equal rates (women's survivorship was much greater).  We also found that age was not independent of survivorship, and proceded to find the slope of decreased survivorship from a marginal year of age.\n",
    "\n",
    "### Limitations\n",
    "\n",
    "The credence we give to the conclusions above are limited mostly by the data itself.  First, passengers embarked with family members that were not accounted for in the data such as neices, nephews and fiances.  Second, in this analysis there is a heavy dependence on the age data.  But some values are missing.  If there were a pattern to the ages of the pasengers with missing ages other than that of the rest of the passengers, our analysis could be misleading.  Finally, as with all statistical analysis, we must be sure to remember correlation is not causation, and a result beyond the critical alpha level can always be due to random chance.\n",
    "\n",
    "\n",
    "### Further Investigation\n",
    "\n",
    "The analysis here was not intended to be complete, and opens up further questions to consider with the data provided.  First, because age and gender were found not to be independent of survivorship, more needs to be explored to add conclusivity to the analysis, specificly whether there is a lurking variable that can be found within the data that explain the relationships.  For example, did passengers on higher decks (nearer the lifeboats) tend to be younger and female?  This might explain the difference in survivorship between older and younger, and female vs male better.  To perform this analysis, seeing as how there is a limited availability of cabin information, an analog could be found using fare information.  Fare would presumably predict if a passenger was first, second or third class, which would predict the level on the ship in which the passenger would reside.  The analysis here is a step toward a holistic analysis of the data.\n",
    "\n"
   ]
  }
 ],
 "metadata": {
  "anaconda-cloud": {},
  "kernelspec": {
   "display_name": "Python [conda env:titanic-analysis]",
   "language": "python",
   "name": "conda-env-titanic-analysis-py"
  },
  "language_info": {
   "codemirror_mode": {
    "name": "ipython",
    "version": 2
   },
   "file_extension": ".py",
   "mimetype": "text/x-python",
   "name": "python",
   "nbconvert_exporter": "python",
   "pygments_lexer": "ipython2",
   "version": "2.7.13"
  }
 },
 "nbformat": 4,
 "nbformat_minor": 2
}
