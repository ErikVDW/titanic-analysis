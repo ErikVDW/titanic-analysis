{
 "cells": [
  {
   "cell_type": "markdown",
   "metadata": {},
   "source": [
    "# Analysis of the Passenger Demographics of the Titanic\n",
    "\n",
    "## Introduction\n",
    "\n",
    "With [data](https://d17h27t6h515a5.cloudfront.net/topher/2016/September/57e9a84c_titanic-data/titanic-data.csv) provided from [Kaggle](https://www.kaggle.com/c/titanic/data), we can investigate information about the 891 of the passengers of the Titanic, from whether they had relatives aboard, to the fare they paid, and ultimately comparing these factors to survivorship to find any interesting relationships.  For the purpose of this analysis, we will assume the availability of the data was random (and that the convenience sampling method of collection has not harmed the usefulness of the data).\n",
    "\n",
    "### Limitations in the Data\n",
    "\n",
    "The data we are presented is not perfect.  As we will see below, some of the data is incomplete.  There are 891 entries in the data, but only 204 instances of fares and 714 instances of age (with some ages being estimated).  Trusting the estimations of the compilers, we still must handle missing values.  This is done first in the setup as data is added to a Pandas DataFrame object from the CSV file: Missing values are given an 'n/a' marker so that they do not interfere with later mathematical and plotting operations.\n",
    "\n",
    "Also limiting our analysis is how the data is grouped.  It would be optimal if we were given counts for each passenger of the number of parents they had aboard, number of children they had aboard, number of siblings they had aboard, and number of spouses they had aboard.  Grouping parents and children, and spouses and siblings confuses our analysis, because the relationship between a passenger is very different if they had a child aboard versus a parent aboard, and also very different if they had a spouse aboard versus if they had a sibling aboard; especially that spouses and siblings are combined is confusing.  This conflating of relationships makes it impossible to ask questions about whether having a sibling aboard meant better survival, or being a parent meant lower survival.\n",
    "\n",
    "### Questions Asked\n",
    "\n",
    "The analysis starts by inquiring about passenger relationships, first by analyzing the frequency with which passengers traveled with their parents and children, and their siblings and spouses, and then by analyzing the connection between boarding location and relationships.\n",
    "\n",
    "The remainder of the analysis concerns the connection between variables and survival. First, gender and survival are compared using a difference of proportions Z-test.  Next, age and survival are compared using a Chi-squared test, with categories being age groups of 10.  Finally, because age and survivorship were found *not* to be independent, a correlation was found to predict the affect of age on survivorship. \n"
   ]
  },
  {
   "cell_type": "markdown",
   "metadata": {},
   "source": [
    "## Setup\n",
    "\n",
    "We import CSV, NumPy, MatPlotLib, Seaborn, and Pandas libraries."
   ]
  },
  {
   "cell_type": "code",
   "execution_count": null,
   "metadata": {
    "collapsed": false,
    "scrolled": true
   },
   "outputs": [],
   "source": [
    "import numpy as np\n",
    "import pandas as pd\n",
    "import matplotlib.pyplot as plt\n",
    "import seaborn as sns\n",
    "import csv"
   ]
  },
  {
   "cell_type": "markdown",
   "metadata": {},
   "source": [
    "### Investigating the data\n",
    "\n",
    "Reading the CSV to a Pandas DataFrame object, we can view summary statistics (below).\n"
   ]
  },
  {
   "cell_type": "markdown",
   "metadata": {},
   "source": [
    "Counting the number of non-null entries in each column, we find that there were only 714 entries for age, only 204 entries for cabin, and two embarked entries were missing.  All other columns were complete:"
   ]
  },
  {
   "cell_type": "code",
   "execution_count": null,
   "metadata": {
    "collapsed": false
   },
   "outputs": [],
   "source": [
    "# Originally, I made a dataframe from the python list version of the csv and converted some of the rows to numeric:\n",
    "\n",
    "# pd_data = pd.DataFrame(list_data)\n",
    "\n",
    "#   pd_data[['Age','Fare','Parch','Pclass','SibSp','Survived']] \n",
    "# = pd_data[['Age','Fare','Parch','Pclass','SibSp','Survived']].apply(pd.to_numeric)\n",
    "\n",
    "# But a better procedure is to type the columns as they are read using pd.read():\n",
    "\n",
    "pd_data = pd.read_csv('titanic-analysis.csv', dtype={'Survived': bool, 'Pclass': int, 'Age': float, 'SibSp': int, 'Parch': int, 'Fare': float}, na_values=['n/a'])\n",
    "\n",
    "\n",
    "pd_data.describe()"
   ]
  },
  {
   "cell_type": "code",
   "execution_count": null,
   "metadata": {
    "collapsed": false
   },
   "outputs": [],
   "source": [
    "pd_data.count()"
   ]
  },
  {
   "cell_type": "markdown",
   "metadata": {},
   "source": [
    "Using Seaborn, we can give ourselves an introduction to the data by creating pairplots between variables that may be significant.  Below, we see the relationships between age, number of siblings and spouses aboard for that passenger, number of parents and children aboard for that passenger, and fare.  Each pairplot datapoint is colored according to whether the passenger ultimately survived or not."
   ]
  },
  {
   "cell_type": "code",
   "execution_count": null,
   "metadata": {
    "collapsed": false
   },
   "outputs": [],
   "source": [
    "newDF = pd_data[['Age','SibSp','Parch','Fare','Survived']].dropna().copy()\n",
    "\n",
    "sns.pairplot(newDF, vars=['Age','SibSp','Parch','Fare'], hue='Survived', palette=\"hls\")"
   ]
  },
  {
   "cell_type": "markdown",
   "metadata": {},
   "source": [
    "Analyzing the pairplot, we notice a few interesting relationships.  It appears in general that the higher the number of siblings, the lower the survivorship.  Those with low age and a high number of siblings tended to suffer especially worse in terms of survival than others.    \n",
    "\n",
    "The relationship is obvious, as expected, for fare and survival (lower fares mean lower survival).  We notice no obvious relationship, however, between fare and age, fare and number of siblings spouses, or fare and number of parents and children.  "
   ]
  },
  {
   "cell_type": "code",
   "execution_count": null,
   "metadata": {
    "collapsed": false
   },
   "outputs": [],
   "source": [
    "# Use this to remind us of how the complete table looks\n",
    "pd_data.sample(n=5)"
   ]
  },
  {
   "cell_type": "markdown",
   "metadata": {},
   "source": [
    "## Who Did Passengers Travel With?\n",
    "\n",
    "From our dataset we can find information about how many siblings and spouses, and how many parents and children a titanic passenger shared the trip with."
   ]
  },
  {
   "cell_type": "code",
   "execution_count": null,
   "metadata": {
    "collapsed": false
   },
   "outputs": [],
   "source": [
    "print \"Total Parent and Child Count: {}\".format(pd_data['Parch'].sum())"
   ]
  },
  {
   "cell_type": "code",
   "execution_count": null,
   "metadata": {
    "collapsed": false
   },
   "outputs": [],
   "source": [
    "%pylab inline\n",
    "print pd_data['Parch'].describe()\n",
    "chart = pd_data['Parch'].hist(bins=range(0,8))\n",
    "chart.set_xlabel(\"Number of parents and children this passenger had aboard\")\n",
    "chart.set_ylabel(\"Frequency\")\n",
    "chart.set_title(\"Histogram of Parents and Children\")"
   ]
  },
  {
   "cell_type": "markdown",
   "metadata": {},
   "source": [
    "As we see above, the vast majority of passengers do not have any siblings aboard.  The distribution is positively skewed with a mean at about 0.38"
   ]
  },
  {
   "cell_type": "markdown",
   "metadata": {},
   "source": [
    "We also describe the number of siblings and spouses aboard for each passenger:"
   ]
  },
  {
   "cell_type": "code",
   "execution_count": null,
   "metadata": {
    "collapsed": false
   },
   "outputs": [],
   "source": [
    "print pd_data['SibSp'].sum()\n",
    "print pd_data['SibSp'].describe()\n",
    "chart = pd_data['SibSp'].hist(bins=range(0,9))\n",
    "chart.set_xlabel(\"Number of spouses and siblings this passenger had aboard\")\n",
    "chart.set_ylabel(\"Frequency\")\n",
    "chart.set_title(\"Histogram of Spouses and Siblings\")"
   ]
  },
  {
   "cell_type": "markdown",
   "metadata": {},
   "source": [
    "Passengers were slightly more likely to have a spouse or sibling aboard, with a mean number of about 0.52.  Again, the distribution is positively skewed.\n",
    "\n",
    "I was originally interested in performing a Z-test to analyze if the two were related, but because both distributions are strongly skewed, that would not confer useful information.  We can however, analyze if there is a correlation (below, using Pearson's r):"
   ]
  },
  {
   "cell_type": "code",
   "execution_count": null,
   "metadata": {
    "collapsed": false
   },
   "outputs": [],
   "source": [
    "# This function finds the Pearson's r for two given variables x and y\n",
    "def correlation(x,y):\n",
    "    stdev_x = (x-x.mean()) / x.std(ddof=0)\n",
    "    stdev_y = (y-y.mean()) / y.std(ddof=0)\n",
    "    \n",
    "    return (stdev_x * stdev_y).mean()\n",
    "\n",
    "# Apply to the sibling/spouse and parent/children data\n",
    "\n",
    "correlation(pd_data['SibSp'], pd_data['Parch'])"
   ]
  },
  {
   "cell_type": "markdown",
   "metadata": {},
   "source": [
    "The correlation is moderate, which might suggest entire families (husband, mother and children) were likely to travel together, though it is not completely clear."
   ]
  },
  {
   "cell_type": "markdown",
   "metadata": {},
   "source": [
    "### Compare Relationships with Location Embarked From\n",
    "Let's compare this with information about where passengers embarked from.  Below we calculate the mean number of parents and children by location embarked from, and mean number of siblings and spouses from each location."
   ]
  },
  {
   "cell_type": "code",
   "execution_count": null,
   "metadata": {
    "collapsed": false
   },
   "outputs": [],
   "source": [
    "print \"Number of parents and children from\"\n",
    "print \"Cherbourg: {}\".format(pd_data['Parch'].loc[pd_data['Embarked'] == \"C\"].mean())\n",
    "print \"Southampton: {}\".format(pd_data['Parch'].loc[pd_data['Embarked'] == \"S\"].mean())\n",
    "print \"Queensland: {}\".format(pd_data['Parch'].loc[pd_data['Embarked'] == \"Q\"].mean())\n",
    "print \"--\"\n",
    "print \"Number of Siblings and Spouses from\"\n",
    "print \"Cherbourg: {}\".format(pd_data['SibSp'].loc[pd_data['Embarked'] == \"C\"].mean())\n",
    "print \"Southampton: {}\".format(pd_data['SibSp'].loc[pd_data['Embarked'] == \"S\"].mean())\n",
    "print \"Queensland: {}\".format(pd_data['SibSp'].loc[pd_data['Embarked'] == \"Q\"].mean())"
   ]
  },
  {
   "cell_type": "markdown",
   "metadata": {},
   "source": [
    "These statistics are not especially surprising.  The location with the greatest number of parents and children per passenger (Southampton) was also the location with the greatest number of siblings and spouses.  What was interesting however, was that people that embarked from Queensland had twice the mean number of spouses and siblings as they did parents and children sharing the trip."
   ]
  },
  {
   "cell_type": "markdown",
   "metadata": {},
   "source": [
    "## Gender and Survival - Related?\n",
    "\n",
    "Another interesting question to ask is if men and women experienced different survivorship levels (especially given the women and children first policy).\n"
   ]
  },
  {
   "cell_type": "markdown",
   "metadata": {},
   "source": [
    "### Analyzing the Data\n",
    "\n",
    "We see that there were almost double the number the number of men in the recorded data, and both samples have at least ten survivals and deaths.  The samples are independent - the survivorship of women has no impact on the survivorship of men, and vice versa.  For these reasons, we can perform a difference of proportions Z-test to determine if there was a significant difference between the proportions who survived."
   ]
  },
  {
   "cell_type": "code",
   "execution_count": null,
   "metadata": {
    "collapsed": false
   },
   "outputs": [],
   "source": [
    "%pylab inline\n",
    "\n",
    "num_men =   pd_data['Sex'].value_counts()['male']\n",
    "num_women = pd_data['Sex'].value_counts()['female']\n",
    "\n",
    "print \"Male passengers in sample: {}\".format(num_men)\n",
    "print \"Female passengers in sample: {}\".format(num_women)\n",
    "\n",
    "sns.set_style(\"whitegrid\")\n",
    "ax = sns.countplot(x=\"Sex\", data=pd_data, palette=\"hls\")\n",
    "ax.set_title(\"Number of Male and Female Passengers in Sample\")\n"
   ]
  },
  {
   "cell_type": "code",
   "execution_count": null,
   "metadata": {
    "collapsed": false
   },
   "outputs": [],
   "source": [
    "# Survivorship by gender\n",
    "pd_data.groupby('Sex').sum()['Survived']"
   ]
  },
  {
   "cell_type": "markdown",
   "metadata": {},
   "source": [
    "For analysis in a difference of proportions Z-test, we need to convert these to proportions:"
   ]
  },
  {
   "cell_type": "code",
   "execution_count": null,
   "metadata": {
    "collapsed": false
   },
   "outputs": [],
   "source": [
    "male_prop_survived = pd_data.groupby('Sex').sum()['Survived']['male'] / float(pd_data['Sex'].value_counts()['male'])\n",
    "\n",
    "print male_prop_survived"
   ]
  },
  {
   "cell_type": "code",
   "execution_count": null,
   "metadata": {
    "collapsed": false
   },
   "outputs": [],
   "source": [
    "female_prop_survived = pd_data.groupby('Sex').sum()['Survived']['female'] / float(pd_data['Sex'].value_counts()['female'])\n",
    "\n",
    "print female_prop_survived"
   ]
  },
  {
   "cell_type": "markdown",
   "metadata": {},
   "source": [
    "Although women were almost half as few as men in number, they accounted for double the number of survivors.  To test if this difference is significant, we will conduct a difference of proportions Z-test.  Our null hypothesis will be that the proportion of surviving men is equal to the proportion of surviving women:\n",
    "\n",
    "$$H_0: \\hat{p}_{men} = \\hat{p}_{women} $$\n",
    "\n",
    "Our alternative hypothesis will be that the proportion of surviving men is less than the proportion of surviving women:\n",
    "\n",
    "$$H_a: \\hat{p}_{men} < \\hat{p}_{women} $$\n",
    "\n",
    "We choose the one-tailed test because the lifeboat policy gives us reason to believe women would have a higher likelihood of survival, and the test offers a greater statistical power.  We will select an alpha level of 0.05 as a baseline."
   ]
  },
  {
   "cell_type": "markdown",
   "metadata": {
    "collapsed": true
   },
   "source": [
    "To start our test, we will start by finding our critical z value:"
   ]
  },
  {
   "cell_type": "code",
   "execution_count": null,
   "metadata": {
    "collapsed": false
   },
   "outputs": [],
   "source": [
    "import scipy.stats as st\n",
    "\n",
    "st.norm.ppf(.05)"
   ]
  },
  {
   "cell_type": "code",
   "execution_count": null,
   "metadata": {
    "collapsed": false
   },
   "outputs": [],
   "source": [
    "pooled_prop = (male_prop_survived * num_men + female_prop_survived * num_women) / (num_men + num_women)\n",
    "\n",
    "print pooled_prop"
   ]
  },
  {
   "cell_type": "markdown",
   "metadata": {},
   "source": [
    "Next, we find the standard error using the pooled proportion:"
   ]
  },
  {
   "cell_type": "code",
   "execution_count": null,
   "metadata": {
    "collapsed": false
   },
   "outputs": [],
   "source": [
    "SE = sqrt(pooled_prop * (1 - pooled_prop)) * ((1 / float(num_men)) + (1 / float(num_women)))\n",
    "\n",
    "print SE"
   ]
  },
  {
   "cell_type": "markdown",
   "metadata": {},
   "source": [
    "Finally we find our test statistic.  "
   ]
  },
  {
   "cell_type": "code",
   "execution_count": null,
   "metadata": {
    "collapsed": false
   },
   "outputs": [],
   "source": [
    "z = (male_prop_survived - female_prop_survived) / SE\n",
    "\n",
    "print z"
   ]
  },
  {
   "cell_type": "markdown",
   "metadata": {},
   "source": [
    "### Analysis of Test\n",
    "\n",
    "Our analysis shows the z score of the difference of the proportions is 231 standard deviations below the mean (so far below that it does not register below as a percentile).  We strongly reject the null hypothesis that men and women survived at equal rates."
   ]
  },
  {
   "cell_type": "code",
   "execution_count": null,
   "metadata": {
    "collapsed": false
   },
   "outputs": [],
   "source": [
    "st.norm.sf(abs(z))"
   ]
  },
  {
   "cell_type": "markdown",
   "metadata": {},
   "source": [
    "## Age and Death - Related?\n",
    "\n",
    "That there was a relationship between survival and passenger class is already well known, and we established that men did suffer more deaths.  What may be more interesting is the relationship between survivorship and age.  For our analysis, we will treat estimated ages as no different than actual ages, though this may add some uncertainty to our analysis."
   ]
  },
  {
   "cell_type": "markdown",
   "metadata": {},
   "source": [
    "### Histogram of Age "
   ]
  },
  {
   "cell_type": "code",
   "execution_count": null,
   "metadata": {
    "collapsed": false
   },
   "outputs": [],
   "source": [
    "%pylab inline\n",
    "print pd_data[['Age']].describe()\n",
    "hist = pd_data[['Age']].boxplot()\n",
    "hist.set_title(\"Age Box and Whisker Plot\")"
   ]
  },
  {
   "cell_type": "markdown",
   "metadata": {},
   "source": [
    "The distribution of ages is centered at just under 30 years, with a standard deviation of about 15 years.  Ages above 65 were outliers on the high end, while there were no outliers on the low end.  The higher ages make the distribution somewhat positively skewed.\n",
    "\n",
    "Below, we take a more in depth look at age by comparing it with survival.  We see in the violin plot below that survival was better for the very young, and worse for the very old."
   ]
  },
  {
   "cell_type": "code",
   "execution_count": null,
   "metadata": {
    "collapsed": false
   },
   "outputs": [],
   "source": [
    "sns.set_style(\"whitegrid\")\n",
    "sns.plt.title(\"Violin Plot of Age and Survival\")\n",
    "ax = sns.violinplot(x=pd_data[\"Survived\"], y=pd_data[\"Age\"])"
   ]
  },
  {
   "cell_type": "markdown",
   "metadata": {},
   "source": [
    "### Mean Survival Rate by Age"
   ]
  },
  {
   "cell_type": "code",
   "execution_count": null,
   "metadata": {
    "collapsed": false
   },
   "outputs": [],
   "source": [
    "def bin_ages(low, high, step):\n",
    "    segmented_ages = pd.cut(pd_data['Age'], bins=range(low,high,step), right=True,)\n",
    "\n",
    "    print \"Number of passengers by age range:\"\n",
    "    segmented_count =  segmented_ages.value_counts(sort=False)\n",
    "    print segmented_count\n",
    "\n",
    "\n",
    "    survived_by_age = pd_data['Age'].fillna(value=0) * pd_data['Survived']\n",
    "    ages_and_survived = pd.cut(survived_by_age, bins=range(low,high,step), right=True,)\n",
    "\n",
    "    prop_survived_by_age = ages_and_survived.value_counts() / segmented_ages.value_counts()\n",
    "\n",
    "    print \"Proportion survived by age range:\"\n",
    "    print prop_survived_by_age\n",
    "    \n",
    "    return segmented_count, prop_survived_by_age\n",
    "    \n",
    "first_pass = bin_ages(0,85,5)"
   ]
  },
  {
   "cell_type": "markdown",
   "metadata": {},
   "source": [
    "Of samples with more than 20 passengers, passengers between 0 and 5 years old fared the best, with an above 70% survival rate.  For passengers over 20, survival rates improved up to about the age of 40.  But it is difficult to analyze survival for the oldest passengers: from 55-80, as their sample sizes came in under 20.  Changing the range below to count all passengers from 55-90 as a single cohort, we find their mean survival was quite low, at just 30%:"
   ]
  },
  {
   "cell_type": "code",
   "execution_count": null,
   "metadata": {
    "collapsed": false
   },
   "outputs": [],
   "source": [
    "pass_2 = bin_ages(55,85,25)\n"
   ]
  },
  {
   "cell_type": "markdown",
   "metadata": {},
   "source": [
    "### Significance Test on Age\n",
    "\n",
    "We will use a Chi Squared test to determine if age was a significant predictor of survivorship.  We create our hypotheses:\n",
    "\n",
    "Null Hypothesis: Age and survivorship are independent.\n",
    "\n",
    "Alternative Hypothesis: Age and survivorship are not independent.\n",
    "\n",
    "\n",
    "We will use a typical alpha level of 0.05.  With 7 degrees of freedom (8 categories minus 1), our critical value comes out to 2.167."
   ]
  },
  {
   "cell_type": "markdown",
   "metadata": {},
   "source": [
    "For age to be independent of survivorship, we would expect the distribution of survivorship amongst age categories to be uniform, close to the mean survivorship:"
   ]
  },
  {
   "cell_type": "code",
   "execution_count": null,
   "metadata": {
    "collapsed": false
   },
   "outputs": [],
   "source": [
    "mean_survival = pd_data['Survived'].mean()\n",
    "print mean_survival"
   ]
  },
  {
   "cell_type": "markdown",
   "metadata": {},
   "source": [
    "Next, we need to split age into useful categories.  Because our earlier cut resulted in bins with counts fewer than 5, it would not be useful for a Chi Squared test.  We therefore double the size of the bins, fulfilling the bin count greater than 4 condition:"
   ]
  },
  {
   "cell_type": "code",
   "execution_count": null,
   "metadata": {
    "collapsed": false
   },
   "outputs": [],
   "source": [
    "pass_3 = bin_ages(0,90,10)"
   ]
  },
  {
   "cell_type": "markdown",
   "metadata": {},
   "source": [
    "Next, we calculate the expected counts for each category:"
   ]
  },
  {
   "cell_type": "code",
   "execution_count": null,
   "metadata": {
    "collapsed": false,
    "scrolled": true
   },
   "outputs": [],
   "source": [
    "expected_counts = pass_3[0] * mean_survival\n",
    "print expected_counts"
   ]
  },
  {
   "cell_type": "markdown",
   "metadata": {},
   "source": [
    "Finally, we calculate our Chi Squared statistic:"
   ]
  },
  {
   "cell_type": "code",
   "execution_count": null,
   "metadata": {
    "collapsed": false
   },
   "outputs": [],
   "source": [
    "diff = pass_3[0] * pass_3[1] - expected_counts\n",
    "chi_squared = ((diff*diff)/expected_counts).sum()\n",
    "\n",
    "print chi_squared"
   ]
  },
  {
   "cell_type": "markdown",
   "metadata": {},
   "source": [
    "Because our Chi Squared statistic is much greater than our critical value, we reject the null hypothesis and find that age and survivorship are not independent."
   ]
  },
  {
   "cell_type": "markdown",
   "metadata": {},
   "source": [
    "### The Correlation Between Age and Survival\n",
    "\n",
    "Knowing that age and survival are not independent, it makes sense to find a correlation between the two."
   ]
  },
  {
   "cell_type": "code",
   "execution_count": null,
   "metadata": {
    "collapsed": false
   },
   "outputs": [],
   "source": [
    "# Find the correlation between age and survival\n",
    "\n",
    "r = correlation(pd_data['Survived'], pd_data['Age'])\n",
    "print \"Correlation: {}\".format(r)\n",
    "\n",
    "\n",
    "# Find the slope of the curve\n",
    "def slope(r,x,y):\n",
    "    \n",
    "    return (r * y.std(ddof=0)) / x.std(ddof=0)\n",
    "\n",
    "age_slope = slope(r,pd_data['Age'],pd_data['Survived'])\n",
    "\n",
    "print \"Age Slope: {}\".format(age_slope)"
   ]
  },
  {
   "cell_type": "markdown",
   "metadata": {},
   "source": [
    "Interpreting our age slope, we see that for every year older a passenger was, their predicted chance of survival would go down by just more than 0.2%.  Age was somewhat predictive of survival."
   ]
  },
  {
   "cell_type": "markdown",
   "metadata": {},
   "source": [
    "## Conclusions\n",
    "\n",
    "We investigated a broad range of questions in a short amount of time.  We found that there was some relationship between the number of parents and children a passenger had aboard, and the number of siblings and spouses they had aboard.  The relationship between these two, and location embarked, however, was not so clear.  We then moved on to the more significant question of how variables affected survival.  We firmly rejected the hypothesis that men and women survived at equal rates (women's survivorship was much greater).  We also found that age was not independent of survivorship, and proceded to find the slope of decreased survivorship from a marginal year of age.\n",
    "\n",
    "### Further Investigation\n",
    "\n",
    "The analysis here was not intended to be complete, and opens up further questions to consider with the data provided.  First, because age and gender were found not to be independent of survivorship, more needs to be explored to add conclusivity to the analysis, specificly whether there is a lurking variable that can be found within the data that explain the relationships.  For example, did passengers on higher decks (nearer the lifeboats) tend to be younger and female?  This might explain the difference in survivorship between older and younger, and female vs male better.  To perform this analysis, seeing as how there is a limited availability of cabin information, an analog could be found using fare information.  Fare would presumably predict if a passenger was first, second or third class, which would predict the level on the ship in which the passenger would reside.  The analysis here is a step toward a holistic analysis of the data.\n",
    "\n"
   ]
  }
 ],
 "metadata": {
  "anaconda-cloud": {},
  "kernelspec": {
   "display_name": "Python [conda env:titanic-analysis]",
   "language": "python",
   "name": "conda-env-titanic-analysis-py"
  },
  "language_info": {
   "codemirror_mode": {
    "name": "ipython",
    "version": 2
   },
   "file_extension": ".py",
   "mimetype": "text/x-python",
   "name": "python",
   "nbconvert_exporter": "python",
   "pygments_lexer": "ipython2",
   "version": "2.7.13"
  }
 },
 "nbformat": 4,
 "nbformat_minor": 2
}
