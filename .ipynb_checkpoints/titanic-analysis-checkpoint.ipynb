{
 "cells": [
  {
   "cell_type": "markdown",
   "metadata": {},
   "source": [
    "# Analysis of the Passenger Demographics of the Titanic\n",
    "\n",
    "## Introduction\n",
    "\n",
    "With [data](https://d17h27t6h515a5.cloudfront.net/topher/2016/September/57e9a84c_titanic-data/titanic-data.csv) provided from [Kaggle](https://www.kaggle.com/c/titanic/data), we can investigate information about the 891 of the passengers of the Titanic, from whether they had relatives aboard, to the fare they paid, and ultimately comparing these factors to survivorship to find any interesting relationships.  For the purpose of this analysis, we will assume the availability of the data was random (and that the convenience sampling method of collection has not harmed the usefulness of the data).\n",
    "\n",
    "\n",
    "\n"
   ]
  },
  {
   "cell_type": "markdown",
   "metadata": {},
   "source": [
    "## Setup\n",
    "\n",
    "We import CSV, NumPy, MatPlotLib, and Pandas libraries.  We will name our python list from the csv simply \"list_data.\""
   ]
  },
  {
   "cell_type": "code",
   "execution_count": 89,
   "metadata": {
    "collapsed": false,
    "scrolled": true
   },
   "outputs": [
    {
     "name": "stdout",
     "output_type": "stream",
     "text": [
      "{'Fare': '7.25', 'Name': 'Braund, Mr. Owen Harris', 'Embarked': 'S', 'Age': '22', 'Parch': '0', 'Pclass': '3', 'Sex': 'male', 'Survived': '0', 'SibSp': '1', 'PassengerId': '1', 'Ticket': 'A/5 21171', 'Cabin': ''}\n"
     ]
    }
   ],
   "source": [
    "import numpy as np\n",
    "import pandas as pd\n",
    "import matplotlib.pyplot as plt\n",
    "\n",
    "import csv\n",
    "\n",
    "def csv_to_dict(filename):\n",
    "    with open(filename, 'rb') as f:\n",
    "        reader = csv.DictReader(f)\n",
    "        return list(reader)\n",
    "list_data = csv_to_dict('titanic-analysis.csv')\n",
    "working_with = type(list_data)\n",
    "\n",
    "print list_data[0] # data is a list of dictionaries"
   ]
  },
  {
   "cell_type": "markdown",
   "metadata": {},
   "source": [
    "### Investigating the data\n",
    "\n",
    "Reading the CSV to a Pandas DataFrame object, we can view summary statistics (below).  In investigating the data, I used CountA in Excel to count the number of non-empty entries in each column.  I found that there were only 714 entries for age, only 204 entries for cabin, and two embarked entries were missing.  All other columns were complete.\n"
   ]
  },
  {
   "cell_type": "code",
   "execution_count": 90,
   "metadata": {
    "collapsed": false
   },
   "outputs": [
    {
     "data": {
      "text/html": [
       "<div>\n",
       "<table border=\"1\" class=\"dataframe\">\n",
       "  <thead>\n",
       "    <tr style=\"text-align: right;\">\n",
       "      <th></th>\n",
       "      <th>PassengerId</th>\n",
       "      <th>Pclass</th>\n",
       "      <th>Age</th>\n",
       "      <th>SibSp</th>\n",
       "      <th>Parch</th>\n",
       "      <th>Fare</th>\n",
       "    </tr>\n",
       "  </thead>\n",
       "  <tbody>\n",
       "    <tr>\n",
       "      <th>count</th>\n",
       "      <td>891.000000</td>\n",
       "      <td>891.000000</td>\n",
       "      <td>714.000000</td>\n",
       "      <td>891.000000</td>\n",
       "      <td>891.000000</td>\n",
       "      <td>891.000000</td>\n",
       "    </tr>\n",
       "    <tr>\n",
       "      <th>mean</th>\n",
       "      <td>446.000000</td>\n",
       "      <td>2.308642</td>\n",
       "      <td>29.699118</td>\n",
       "      <td>0.523008</td>\n",
       "      <td>0.381594</td>\n",
       "      <td>32.204208</td>\n",
       "    </tr>\n",
       "    <tr>\n",
       "      <th>std</th>\n",
       "      <td>257.353842</td>\n",
       "      <td>0.836071</td>\n",
       "      <td>14.526497</td>\n",
       "      <td>1.102743</td>\n",
       "      <td>0.806057</td>\n",
       "      <td>49.693429</td>\n",
       "    </tr>\n",
       "    <tr>\n",
       "      <th>min</th>\n",
       "      <td>1.000000</td>\n",
       "      <td>1.000000</td>\n",
       "      <td>0.420000</td>\n",
       "      <td>0.000000</td>\n",
       "      <td>0.000000</td>\n",
       "      <td>0.000000</td>\n",
       "    </tr>\n",
       "    <tr>\n",
       "      <th>25%</th>\n",
       "      <td>223.500000</td>\n",
       "      <td>2.000000</td>\n",
       "      <td>20.125000</td>\n",
       "      <td>0.000000</td>\n",
       "      <td>0.000000</td>\n",
       "      <td>7.910400</td>\n",
       "    </tr>\n",
       "    <tr>\n",
       "      <th>50%</th>\n",
       "      <td>446.000000</td>\n",
       "      <td>3.000000</td>\n",
       "      <td>28.000000</td>\n",
       "      <td>0.000000</td>\n",
       "      <td>0.000000</td>\n",
       "      <td>14.454200</td>\n",
       "    </tr>\n",
       "    <tr>\n",
       "      <th>75%</th>\n",
       "      <td>668.500000</td>\n",
       "      <td>3.000000</td>\n",
       "      <td>38.000000</td>\n",
       "      <td>1.000000</td>\n",
       "      <td>0.000000</td>\n",
       "      <td>31.000000</td>\n",
       "    </tr>\n",
       "    <tr>\n",
       "      <th>max</th>\n",
       "      <td>891.000000</td>\n",
       "      <td>3.000000</td>\n",
       "      <td>80.000000</td>\n",
       "      <td>8.000000</td>\n",
       "      <td>6.000000</td>\n",
       "      <td>512.329200</td>\n",
       "    </tr>\n",
       "  </tbody>\n",
       "</table>\n",
       "</div>"
      ],
      "text/plain": [
       "       PassengerId      Pclass         Age       SibSp       Parch        Fare\n",
       "count   891.000000  891.000000  714.000000  891.000000  891.000000  891.000000\n",
       "mean    446.000000    2.308642   29.699118    0.523008    0.381594   32.204208\n",
       "std     257.353842    0.836071   14.526497    1.102743    0.806057   49.693429\n",
       "min       1.000000    1.000000    0.420000    0.000000    0.000000    0.000000\n",
       "25%     223.500000    2.000000   20.125000    0.000000    0.000000    7.910400\n",
       "50%     446.000000    3.000000   28.000000    0.000000    0.000000   14.454200\n",
       "75%     668.500000    3.000000   38.000000    1.000000    0.000000   31.000000\n",
       "max     891.000000    3.000000   80.000000    8.000000    6.000000  512.329200"
      ]
     },
     "execution_count": 90,
     "metadata": {},
     "output_type": "execute_result"
    }
   ],
   "source": [
    "# Originally, I made a dataframe from the python list version of the csv and converted some of the rows to numeric:\n",
    "\n",
    "# pd_data = pd.DataFrame(list_data)\n",
    "\n",
    "#   pd_data[['Age','Fare','Parch','Pclass','SibSp','Survived']] \n",
    "# = pd_data[['Age','Fare','Parch','Pclass','SibSp','Survived']].apply(pd.to_numeric)\n",
    "\n",
    "# But a better procedure is to type the columns as they are read using pd.read():\n",
    "\n",
    "pd_data = pd.read_csv('titanic-analysis.csv', dtype={'Survived': bool, 'Pclass': int, 'Age': float, 'SibSp': int, 'Parch': int, 'Fare': float}, na_values=['n/a'])\n",
    "\n",
    "\n",
    "pd_data.describe()"
   ]
  },
  {
   "cell_type": "code",
   "execution_count": 91,
   "metadata": {
    "collapsed": false
   },
   "outputs": [
    {
     "data": {
      "text/html": [
       "<div>\n",
       "<table border=\"1\" class=\"dataframe\">\n",
       "  <thead>\n",
       "    <tr style=\"text-align: right;\">\n",
       "      <th></th>\n",
       "      <th>PassengerId</th>\n",
       "      <th>Survived</th>\n",
       "      <th>Pclass</th>\n",
       "      <th>Name</th>\n",
       "      <th>Sex</th>\n",
       "      <th>Age</th>\n",
       "      <th>SibSp</th>\n",
       "      <th>Parch</th>\n",
       "      <th>Ticket</th>\n",
       "      <th>Fare</th>\n",
       "      <th>Cabin</th>\n",
       "      <th>Embarked</th>\n",
       "    </tr>\n",
       "  </thead>\n",
       "  <tbody>\n",
       "    <tr>\n",
       "      <th>643</th>\n",
       "      <td>644</td>\n",
       "      <td>True</td>\n",
       "      <td>3</td>\n",
       "      <td>Foo, Mr. Choong</td>\n",
       "      <td>male</td>\n",
       "      <td>NaN</td>\n",
       "      <td>0</td>\n",
       "      <td>0</td>\n",
       "      <td>1601</td>\n",
       "      <td>56.4958</td>\n",
       "      <td>NaN</td>\n",
       "      <td>S</td>\n",
       "    </tr>\n",
       "    <tr>\n",
       "      <th>523</th>\n",
       "      <td>524</td>\n",
       "      <td>True</td>\n",
       "      <td>1</td>\n",
       "      <td>Hippach, Mrs. Louis Albert (Ida Sophia Fischer)</td>\n",
       "      <td>female</td>\n",
       "      <td>44.0</td>\n",
       "      <td>0</td>\n",
       "      <td>1</td>\n",
       "      <td>111361</td>\n",
       "      <td>57.9792</td>\n",
       "      <td>B18</td>\n",
       "      <td>C</td>\n",
       "    </tr>\n",
       "    <tr>\n",
       "      <th>351</th>\n",
       "      <td>352</td>\n",
       "      <td>False</td>\n",
       "      <td>1</td>\n",
       "      <td>Williams-Lambert, Mr. Fletcher Fellows</td>\n",
       "      <td>male</td>\n",
       "      <td>NaN</td>\n",
       "      <td>0</td>\n",
       "      <td>0</td>\n",
       "      <td>113510</td>\n",
       "      <td>35.0000</td>\n",
       "      <td>C128</td>\n",
       "      <td>S</td>\n",
       "    </tr>\n",
       "    <tr>\n",
       "      <th>615</th>\n",
       "      <td>616</td>\n",
       "      <td>True</td>\n",
       "      <td>2</td>\n",
       "      <td>Herman, Miss. Alice</td>\n",
       "      <td>female</td>\n",
       "      <td>24.0</td>\n",
       "      <td>1</td>\n",
       "      <td>2</td>\n",
       "      <td>220845</td>\n",
       "      <td>65.0000</td>\n",
       "      <td>NaN</td>\n",
       "      <td>S</td>\n",
       "    </tr>\n",
       "    <tr>\n",
       "      <th>749</th>\n",
       "      <td>750</td>\n",
       "      <td>False</td>\n",
       "      <td>3</td>\n",
       "      <td>Connaghton, Mr. Michael</td>\n",
       "      <td>male</td>\n",
       "      <td>31.0</td>\n",
       "      <td>0</td>\n",
       "      <td>0</td>\n",
       "      <td>335097</td>\n",
       "      <td>7.7500</td>\n",
       "      <td>NaN</td>\n",
       "      <td>Q</td>\n",
       "    </tr>\n",
       "  </tbody>\n",
       "</table>\n",
       "</div>"
      ],
      "text/plain": [
       "     PassengerId Survived  Pclass  \\\n",
       "643          644     True       3   \n",
       "523          524     True       1   \n",
       "351          352    False       1   \n",
       "615          616     True       2   \n",
       "749          750    False       3   \n",
       "\n",
       "                                                Name     Sex   Age  SibSp  \\\n",
       "643                                  Foo, Mr. Choong    male   NaN      0   \n",
       "523  Hippach, Mrs. Louis Albert (Ida Sophia Fischer)  female  44.0      0   \n",
       "351           Williams-Lambert, Mr. Fletcher Fellows    male   NaN      0   \n",
       "615                              Herman, Miss. Alice  female  24.0      1   \n",
       "749                          Connaghton, Mr. Michael    male  31.0      0   \n",
       "\n",
       "     Parch  Ticket     Fare Cabin Embarked  \n",
       "643      0    1601  56.4958   NaN        S  \n",
       "523      1  111361  57.9792   B18        C  \n",
       "351      0  113510  35.0000  C128        S  \n",
       "615      2  220845  65.0000   NaN        S  \n",
       "749      0  335097   7.7500   NaN        Q  "
      ]
     },
     "execution_count": 91,
     "metadata": {},
     "output_type": "execute_result"
    }
   ],
   "source": [
    "# Use this to remind us of how the complete table looks\n",
    "pd_data.sample(n=5)"
   ]
  },
  {
   "cell_type": "markdown",
   "metadata": {},
   "source": [
    "## Who did passengers travel with?\n",
    "\n",
    "From our dataset we can find information about how many siblings and spouses, and how many parents and children a titanic passenger shared the trip with."
   ]
  },
  {
   "cell_type": "code",
   "execution_count": 92,
   "metadata": {
    "collapsed": false
   },
   "outputs": [
    {
     "name": "stdout",
     "output_type": "stream",
     "text": [
      "Total Parent and Child Count: 340\n"
     ]
    }
   ],
   "source": [
    "print \"Total Parent and Child Count: {}\".format(pd_data['Parch'].sum())"
   ]
  },
  {
   "cell_type": "code",
   "execution_count": 93,
   "metadata": {
    "collapsed": false
   },
   "outputs": [
    {
     "name": "stdout",
     "output_type": "stream",
     "text": [
      "Populating the interactive namespace from numpy and matplotlib\n",
      "count    891.000000\n",
      "mean       0.381594\n",
      "std        0.806057\n",
      "min        0.000000\n",
      "25%        0.000000\n",
      "50%        0.000000\n",
      "75%        0.000000\n",
      "max        6.000000\n",
      "Name: Parch, dtype: float64\n"
     ]
    },
    {
     "data": {
      "text/plain": [
       "<matplotlib.axes._subplots.AxesSubplot at 0x81afc88>"
      ]
     },
     "execution_count": 93,
     "metadata": {},
     "output_type": "execute_result"
    },
    {
     "data": {
      "image/png": "[encoded data removed]",
      "text/plain": [
       "<matplotlib.figure.Figure at 0x8a9f208>"
      ]
     },
     "metadata": {},
     "output_type": "display_data"
    }
   ],
   "source": [
    "%pylab inline\n",
    "print pd_data['Parch'].describe()\n",
    "pd_data['Parch'].hist(bins=range(0,8))"
   ]
  },
  {
   "cell_type": "markdown",
   "metadata": {},
   "source": [
    "As we see above, the vast majority of passengers do not have any siblings aboard.  The distribution is positively skewed with a mean at about 0.38"
   ]
  },
  {
   "cell_type": "code",
   "execution_count": 94,
   "metadata": {
    "collapsed": false
   },
   "outputs": [
    {
     "name": "stdout",
     "output_type": "stream",
     "text": [
      "466\n",
      "count    891.000000\n",
      "mean       0.523008\n",
      "std        1.102743\n",
      "min        0.000000\n",
      "25%        0.000000\n",
      "50%        0.000000\n",
      "75%        1.000000\n",
      "max        8.000000\n",
      "Name: SibSp, dtype: float64\n"
     ]
    },
    {
     "data": {
      "text/plain": [
       "<matplotlib.axes._subplots.AxesSubplot at 0x88f7278>"
      ]
     },
     "execution_count": 94,
     "metadata": {},
     "output_type": "execute_result"
    },
    {
     "data": {
      "image/png": "[encoded data removed]",
      "text/plain": [
       "<matplotlib.figure.Figure at 0xbfa3240>"
      ]
     },
     "metadata": {},
     "output_type": "display_data"
    }
   ],
   "source": [
    "print pd_data['SibSp'].sum()\n",
    "print pd_data['SibSp'].describe()\n",
    "pd_data['SibSp'].hist()"
   ]
  },
  {
   "cell_type": "markdown",
   "metadata": {},
   "source": [
    "Passengers were slightly more likely to have a spouse or sibling aboard, with a mean number of about 0.52.  Again, the distribution is positively skewed.\n",
    "\n",
    "I was originally interested in performing a Z-test to analyze if the two were related, but because both distributions are strongly skewed, that would not confer useful information.  We can however, analyze if there is a correlation (below, using Pearson's r):"
   ]
  },
  {
   "cell_type": "code",
   "execution_count": 95,
   "metadata": {
    "collapsed": false
   },
   "outputs": [
    {
     "data": {
      "text/plain": [
       "0.41483769862015607"
      ]
     },
     "execution_count": 95,
     "metadata": {},
     "output_type": "execute_result"
    }
   ],
   "source": [
    "# This function finds the Pearson's r for two given variables x and y\n",
    "def correlation(x,y):\n",
    "    stdev_x = (x-x.mean()) / x.std(ddof=0)\n",
    "    stdev_y = (y-y.mean()) / y.std(ddof=0)\n",
    "    \n",
    "    return (stdev_x * stdev_y).mean()\n",
    "\n",
    "# Apply to the sibling/spouse and parent/children data\n",
    "\n",
    "correlation(pd_data['SibSp'], pd_data['Parch'])"
   ]
  },
  {
   "cell_type": "markdown",
   "metadata": {},
   "source": [
    "The correlation is moderate, which might suggest entire families (husband, mother and children) were likely to travel together, though it is not completely clear."
   ]
  },
  {
   "cell_type": "markdown",
   "metadata": {},
   "source": [
    "## Compare with Location Embarked From\n",
    "Let's compare this with information about where passengers embarked from.  Below we calculate the mean number of parents and children by location embarked from, and mean number of siblings and spouses from each location."
   ]
  },
  {
   "cell_type": "code",
   "execution_count": 96,
   "metadata": {
    "collapsed": false
   },
   "outputs": [
    {
     "name": "stdout",
     "output_type": "stream",
     "text": [
      "Number of parents and children from\n",
      "Cherbourg: 0.363095238095\n",
      "Southampton: 0.413043478261\n",
      "Queensland: 0.168831168831\n",
      "--\n",
      "Number of Siblings and Spouses from\n",
      "Cherbourg: 0.386904761905\n",
      "Southampton: 0.571428571429\n",
      "Queensland: 0.428571428571\n"
     ]
    }
   ],
   "source": [
    "print \"Number of parents and children from\"\n",
    "print \"Cherbourg: {}\".format(pd_data['Parch'].loc[pd_data['Embarked'] == \"C\"].mean())\n",
    "print \"Southampton: {}\".format(pd_data['Parch'].loc[pd_data['Embarked'] == \"S\"].mean())\n",
    "print \"Queensland: {}\".format(pd_data['Parch'].loc[pd_data['Embarked'] == \"Q\"].mean())\n",
    "print \"--\"\n",
    "print \"Number of Siblings and Spouses from\"\n",
    "print \"Cherbourg: {}\".format(pd_data['SibSp'].loc[pd_data['Embarked'] == \"C\"].mean())\n",
    "print \"Southampton: {}\".format(pd_data['SibSp'].loc[pd_data['Embarked'] == \"S\"].mean())\n",
    "print \"Queensland: {}\".format(pd_data['SibSp'].loc[pd_data['Embarked'] == \"Q\"].mean())"
   ]
  },
  {
   "cell_type": "markdown",
   "metadata": {},
   "source": [
    "These statistics are not especially surprising.  The location with the greatest number of parents and children per passenger (Southampton) was also the location with the greatest number of siblings and spouses.  What was interesting however, was that people that embarked from Queensland had twice the mean number of spouses and siblings as they did parents and children sharing the trip."
   ]
  },
  {
   "cell_type": "markdown",
   "metadata": {},
   "source": [
    "## Gender and Survival - related?\n",
    "\n",
    "Another interesting question to ask is if men and women experienced different survivorship levels (especially given the women and children first policy).\n"
   ]
  },
  {
   "cell_type": "markdown",
   "metadata": {},
   "source": [
    "### Analyzing the Data\n",
    "\n",
    "We see that there were almost double the number the number of men in the recorded data, and both samples have at least ten survivals and deaths.  The samples are independent - the survivorship of women has no impact on the survivorship of men, and vice versa.  For these reasons, we can perform a difference of proportions Z-test to determine if there was a significant difference between the proportions who survived."
   ]
  },
  {
   "cell_type": "code",
   "execution_count": 97,
   "metadata": {
    "collapsed": false
   },
   "outputs": [
    {
     "name": "stdout",
     "output_type": "stream",
     "text": [
      "Populating the interactive namespace from numpy and matplotlib\n",
      "Male passengers in sample: 577\n",
      "Female passengers in sample: 314\n"
     ]
    },
    {
     "data": {
      "text/plain": [
       "<matplotlib.axes._subplots.AxesSubplot at 0xc43fc88>"
      ]
     },
     "execution_count": 97,
     "metadata": {},
     "output_type": "execute_result"
    },
    {
     "data": {
      "image/png": "[encoded data removed]",
      "text/plain": [
       "<matplotlib.figure.Figure at 0x81afd68>"
      ]
     },
     "metadata": {},
     "output_type": "display_data"
    }
   ],
   "source": [
    "%pylab inline\n",
    "\n",
    "num_men =   pd_data['Sex'].value_counts()['male']\n",
    "num_women = pd_data['Sex'].value_counts()['female']\n",
    "\n",
    "print \"Male passengers in sample: {}\".format(num_men)\n",
    "print \"Female passengers in sample: {}\".format(num_women)\n",
    "\n",
    "pd_data['Sex'].value_counts().plot(kind='bar')"
   ]
  },
  {
   "cell_type": "code",
   "execution_count": 98,
   "metadata": {
    "collapsed": false
   },
   "outputs": [
    {
     "data": {
      "text/plain": [
       "Sex\n",
       "female    233.0\n",
       "male      109.0\n",
       "Name: Survived, dtype: float64"
      ]
     },
     "execution_count": 98,
     "metadata": {},
     "output_type": "execute_result"
    }
   ],
   "source": [
    "# Survivorship by gender\n",
    "pd_data.groupby('Sex').sum()['Survived']"
   ]
  },
  {
   "cell_type": "markdown",
   "metadata": {},
   "source": [
    "For analysis, we need to convert these to proportions:"
   ]
  },
  {
   "cell_type": "code",
   "execution_count": 99,
   "metadata": {
    "collapsed": false
   },
   "outputs": [
    {
     "name": "stdout",
     "output_type": "stream",
     "text": [
      "0.188908145581\n"
     ]
    }
   ],
   "source": [
    "male_prop_survived = pd_data.groupby('Sex').sum()['Survived']['male'] / float(pd_data['Sex'].value_counts()['male'])\n",
    "\n",
    "print male_prop_survived"
   ]
  },
  {
   "cell_type": "code",
   "execution_count": 100,
   "metadata": {
    "collapsed": false
   },
   "outputs": [
    {
     "name": "stdout",
     "output_type": "stream",
     "text": [
      "0.742038216561\n"
     ]
    }
   ],
   "source": [
    "female_prop_survived = pd_data.groupby('Sex').sum()['Survived']['female'] / float(pd_data['Sex'].value_counts()['female'])\n",
    "\n",
    "print female_prop_survived"
   ]
  },
  {
   "cell_type": "markdown",
   "metadata": {},
   "source": [
    "Although women were almost half as few as men in number, they accounted for double the number of survivors.  To test if this difference is significant, we will conduct a proportion test.  Our null hypothesis will be that the proportion of surviving men is equal to the proportion of surviving women:\n",
    "\n",
    "$$H_0: \\hat{p}_{men} = \\hat{p}_{women} $$\n",
    "\n",
    "Our alternative hypothesis will be that the proportion of surviving men is less than the proportion of surviving women:\n",
    "\n",
    "$$H_a: \\hat{p}_{men} < \\hat{p}_{women} $$\n",
    "\n",
    "We choose the one-tailed test because the lifeboat policy gives us reason to believe women would have a higher likelihood of survival, and the test offers a greater statistical power.  We will select an alpha level of 0.05 as a baseline."
   ]
  },
  {
   "cell_type": "markdown",
   "metadata": {
    "collapsed": true
   },
   "source": [
    "To start our test, we will start by finding our critical z value:"
   ]
  },
  {
   "cell_type": "code",
   "execution_count": 101,
   "metadata": {
    "collapsed": false
   },
   "outputs": [
    {
     "data": {
      "text/plain": [
       "-1.6448536269514729"
      ]
     },
     "execution_count": 101,
     "metadata": {},
     "output_type": "execute_result"
    }
   ],
   "source": [
    "import scipy.stats as st\n",
    "\n",
    "st.norm.ppf(.05)"
   ]
  },
  {
   "cell_type": "code",
   "execution_count": 102,
   "metadata": {
    "collapsed": false
   },
   "outputs": [
    {
     "name": "stdout",
     "output_type": "stream",
     "text": [
      "0.383838383838\n"
     ]
    }
   ],
   "source": [
    "pooled_prop = (male_prop_survived * num_men + female_prop_survived * num_women) / (num_men + num_women)\n",
    "\n",
    "print pooled_prop"
   ]
  },
  {
   "cell_type": "markdown",
   "metadata": {},
   "source": [
    "Next, we find the standard error using the pooled proportion:"
   ]
  },
  {
   "cell_type": "code",
   "execution_count": 103,
   "metadata": {
    "collapsed": false
   },
   "outputs": [
    {
     "name": "stdout",
     "output_type": "stream",
     "text": [
      "0.00239162874201\n"
     ]
    }
   ],
   "source": [
    "SE = sqrt(pooled_prop * (1 - pooled_prop)) * ((1 / float(num_men)) + (1 / float(num_women)))\n",
    "\n",
    "print SE"
   ]
  },
  {
   "cell_type": "markdown",
   "metadata": {},
   "source": [
    "Finally we find our test statistic.  "
   ]
  },
  {
   "cell_type": "code",
   "execution_count": 104,
   "metadata": {
    "collapsed": false
   },
   "outputs": [
    {
     "name": "stdout",
     "output_type": "stream",
     "text": [
      "-231.277564642\n"
     ]
    }
   ],
   "source": [
    "z = (male_prop_survived - female_prop_survived) / SE\n",
    "\n",
    "print z"
   ]
  },
  {
   "cell_type": "markdown",
   "metadata": {},
   "source": [
    "### Analysis of Test\n",
    "\n",
    "Our analysis shows the z score of the difference of the proportions is 231 standard deviations below the mean (so far below that it does not register below as a percentile).  We strongly reject the null hypothesis that men and women survived at equal rates."
   ]
  },
  {
   "cell_type": "code",
   "execution_count": 105,
   "metadata": {
    "collapsed": false
   },
   "outputs": [
    {
     "data": {
      "text/plain": [
       "0.0"
      ]
     },
     "execution_count": 105,
     "metadata": {},
     "output_type": "execute_result"
    }
   ],
   "source": [
    "scipy.stats.norm.sf(abs(z))"
   ]
  },
  {
   "cell_type": "markdown",
   "metadata": {},
   "source": [
    "## Age and Death - Related?\n",
    "\n",
    "That there was a relationship between survival and passenger class is already well known, and we established that men did suffer more deaths.  What may be more interesting is the relationship between survivorship and age.  For our analysis, we will treat estimated ages as no different than actual ages, though this may add some uncertainty to our analysis."
   ]
  },
  {
   "cell_type": "markdown",
   "metadata": {},
   "source": [
    "### Histogram of Age "
   ]
  },
  {
   "cell_type": "code",
   "execution_count": 106,
   "metadata": {
    "collapsed": false
   },
   "outputs": [
    {
     "name": "stdout",
     "output_type": "stream",
     "text": [
      "Populating the interactive namespace from numpy and matplotlib\n",
      "              Age\n",
      "count  714.000000\n",
      "mean    29.699118\n",
      "std     14.526497\n",
      "min      0.420000\n",
      "25%     20.125000\n",
      "50%     28.000000\n",
      "75%     38.000000\n",
      "max     80.000000\n"
     ]
    },
    {
     "data": {
      "text/plain": [
       "<matplotlib.axes._subplots.AxesSubplot at 0xc8c5d68>"
      ]
     },
     "execution_count": 106,
     "metadata": {},
     "output_type": "execute_result"
    },
    {
     "data": {
      "image/png": "[encoded data removed]",
      "text/plain": [
       "<matplotlib.figure.Figure at 0xc853390>"
      ]
     },
     "metadata": {},
     "output_type": "display_data"
    }
   ],
   "source": [
    "%pylab inline\n",
    "print pd_data[['Age']].describe()\n",
    "pd_data[['Age']].boxplot()"
   ]
  },
  {
   "cell_type": "markdown",
   "metadata": {},
   "source": [
    "The distribution of ages is centered at just under 30 years, with a standard deviation of about 15 years.  Ages above 65 were outliers on the high end, while there were no outliers on the low end.  The higher ages make the distribution somewhat positively skewed."
   ]
  },
  {
   "cell_type": "markdown",
   "metadata": {},
   "source": [
    "### Mean Survival Rate by Age"
   ]
  },
  {
   "cell_type": "code",
   "execution_count": 107,
   "metadata": {
    "collapsed": false
   },
   "outputs": [
    {
     "name": "stdout",
     "output_type": "stream",
     "text": [
      "for range 0 to 5\n",
      "Count: 40\n",
      "Mean survival: 0.675\n",
      "for range 5 to 10\n",
      "Count: 22\n",
      "Mean survival: 0.5\n",
      "for range 10 to 15\n",
      "Count: 16\n",
      "Mean survival: 0.4375\n",
      "for range 15 to 20\n",
      "Count: 86\n",
      "Mean survival: 0.395348837209\n",
      "for range 20 to 25\n",
      "Count: 114\n",
      "Mean survival: 0.342105263158\n",
      "for range 25 to 30\n",
      "Count: 106\n",
      "Mean survival: 0.358490566038\n",
      "for range 30 to 35\n",
      "Count: 95\n",
      "Mean survival: 0.421052631579\n",
      "for range 35 to 40\n",
      "Count: 72\n",
      "Mean survival: 0.458333333333\n",
      "for range 40 to 45\n",
      "Count: 48\n",
      "Mean survival: 0.375\n",
      "for range 45 to 50\n",
      "Count: 41\n",
      "Mean survival: 0.390243902439\n",
      "for range 50 to 55\n",
      "Count: 32\n",
      "Mean survival: 0.4375\n",
      "for range 55 to 60\n",
      "Count: 16\n",
      "Mean survival: 0.375\n",
      "for range 60 to 65\n",
      "Count: 15\n",
      "Mean survival: 0.4\n",
      "for range 65 to 70\n",
      "Count: 4\n",
      "Mean survival: 0.0\n",
      "for range 70 to 75\n",
      "Count: 6\n",
      "Mean survival: 0.0\n",
      "for range 75 to 80\n",
      "Count: 0\n",
      "Mean survival: nan\n",
      "for range 80 to 85\n",
      "Count: 1\n",
      "Mean survival: 1.0\n"
     ]
    }
   ],
   "source": [
    "# test for ages between x and y\n",
    "# for each age range, print a survival rate and count of people within the range\n",
    "# the maximum age is 80, from: pd_data['Age'].max()\n",
    "\n",
    "x = 0\n",
    "for y in range(5,90,5):\n",
    "    test_x = pd_data['Age'] >= x \n",
    "    test_y =  pd_data['Age'] < y\n",
    "    test_both = test_x & test_y\n",
    "    \n",
    "    selection = pd_data.loc[test_both]\n",
    "    print \"for range {} to {}\".format(x, y)\n",
    "    print \"Count: {}\".format(selection['Survived'].count())\n",
    "    print \"Mean survival: {}\".format(selection['Survived'].mean())\n",
    "    x = y\n"
   ]
  },
  {
   "cell_type": "markdown",
   "metadata": {},
   "source": [
    "Of samples with more than 20 passengers, passengers between 0 and 5 years old fared the best, with an almost 70% survival rate.  For passengers over 20, survival rates improved up to about the age of 40.  But it is difficult to analyze survival for the oldest passengers: from 55-80, as their sample sizes came in under 20.  Changing the range below to count all passengers from 55-90 as a single cohort, we find their mean survival was quite low, at just over 30%:"
   ]
  },
  {
   "cell_type": "code",
   "execution_count": 108,
   "metadata": {
    "collapsed": false
   },
   "outputs": [
    {
     "name": "stdout",
     "output_type": "stream",
     "text": [
      "for range 55 to 90\n",
      "Count: 42\n",
      "Mean survival: 0.309523809524\n"
     ]
    }
   ],
   "source": [
    "x = 55\n",
    "y = 90\n",
    "test_x = pd_data['Age'] >= x \n",
    "test_y =  pd_data['Age'] < y\n",
    "test_both = test_x & test_y\n",
    "\n",
    "selection = pd_data.loc[test_both]\n",
    "print \"for range {} to {}\".format(x, y)\n",
    "print \"Count: {}\".format(selection['Survived'].count())\n",
    "print \"Mean survival: {}\".format(selection['Survived'].mean())"
   ]
  },
  {
   "cell_type": "markdown",
   "metadata": {},
   "source": [
    "### Using Age to Explain Survival\n",
    "\n",
    "We can find the correlation between age and survival, and then find the slope to use our correlation to explain survival."
   ]
  },
  {
   "cell_type": "code",
   "execution_count": 109,
   "metadata": {
    "collapsed": false
   },
   "outputs": [
    {
     "name": "stdout",
     "output_type": "stream",
     "text": [
      "Correlation: -0.0779826784139\n",
      "Age Slope: -0.00261254091706\n"
     ]
    }
   ],
   "source": [
    "# Find the correlation between age and survival\n",
    "\n",
    "r = correlation(pd_data['Survived'], pd_data['Age'])\n",
    "print \"Correlation: {}\".format(r)\n",
    "\n",
    "\n",
    "# Find the slope of the curve\n",
    "def slope(r,x,y):\n",
    "    \n",
    "    return (r * y.std(ddof=0)) / x.std(ddof=0)\n",
    "\n",
    "age_slope = slope(r,pd_data['Age'],pd_data['Survived'])\n",
    "\n",
    "print \"Age Slope: {}\".format(age_slope)"
   ]
  },
  {
   "cell_type": "markdown",
   "metadata": {},
   "source": [
    "Interpreting our age slope, we see that for every year older a passenger was, their predicted chance of survival would go down by just more than 0.2%.  Age was somewhat predictive of survival."
   ]
  }
 ],
 "metadata": {
  "anaconda-cloud": {},
  "kernelspec": {
   "display_name": "Python [conda env:titanic-analysis]",
   "language": "python",
   "name": "conda-env-titanic-analysis-py"
  },
  "language_info": {
   "codemirror_mode": {
    "name": "ipython",
    "version": 2
   },
   "file_extension": ".py",
   "mimetype": "text/x-python",
   "name": "python",
   "nbconvert_exporter": "python",
   "pygments_lexer": "ipython2",
   "version": "2.7.13"
  }
 },
 "nbformat": 4,
 "nbformat_minor": 2
}
